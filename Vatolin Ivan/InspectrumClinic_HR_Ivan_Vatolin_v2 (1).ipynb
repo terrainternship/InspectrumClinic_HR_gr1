{
  "cells": [
    {
      "cell_type": "markdown",
      "metadata": {
        "id": "view-in-github",
        "colab_type": "text"
      },
      "source": [
        "<a href=\"https://colab.research.google.com/github/Untick/InspectrumClinic_HR_gr1/blob/Vatolin-Ivan-folder/InspectrumClinic_HR_Ivan_Vatolin_v2.ipynb\" target=\"_parent\"><img src=\"https://colab.research.google.com/assets/colab-badge.svg\" alt=\"Open In Colab\"/></a>"
      ]
    },
    {
      "cell_type": "markdown",
      "metadata": {
        "id": "as7guhDmE7Uq"
      },
      "source": [
        "# Ссылка на сырые данные HR и загрузка\n",
        "https://drive.google.com/uc?id=1LAq5m2yO1fRl45nO3_LpW0xGyl-kvOaX\n",
        "\n",
        "---"
      ]
    },
    {
      "cell_type": "code",
      "execution_count": null,
      "metadata": {
        "colab": {
          "base_uri": "https://localhost:8080/"
        },
        "id": "3G6PZLp7EWHP",
        "outputId": "54cc5221-b615-4a8a-f84e-c8b71f85359a"
      },
      "outputs": [
        {
          "output_type": "stream",
          "name": "stdout",
          "text": [
            "Downloading...\n",
            "From: https://drive.google.com/uc?id=1LAq5m2yO1fRl45nO3_LpW0xGyl-kvOaX\n",
            "To: /content/Dataset_HR_581.xlsx\n",
            "\r  0% 0.00/119k [00:00<?, ?B/s]\r100% 119k/119k [00:00<00:00, 72.3MB/s]\n"
          ]
        }
      ],
      "source": [
        "!gdown 1LAq5m2yO1fRl45nO3_LpW0xGyl-kvOaX"
      ]
    },
    {
      "cell_type": "markdown",
      "metadata": {
        "id": "W_8D_yoqIM-8"
      },
      "source": [
        "# Анализ данных"
      ]
    },
    {
      "cell_type": "code",
      "execution_count": null,
      "metadata": {
        "id": "p2WlCjptFX2Y"
      },
      "outputs": [],
      "source": [
        "import pandas as pd\n",
        "import numpy as np\n",
        "from datetime import datetime\n",
        "from datetime import time\n",
        "import re\n",
        "from sklearn import preprocessing as pr \n",
        "import matplotlib.pyplot as plt\n",
        "from tqdm.notebook import tqdm\n",
        "from sklearn.model_selection import train_test_split\n",
        "from sklearn.metrics.pairwise import pairwise_distances\n",
        "from sklearn.metrics import mean_squared_error\n",
        "from tensorflow.keras.layers import Dense, Dropout, BatchNormalization\n",
        "from tensorflow.keras.models import Sequential\n",
        "from sklearn.metrics import *\n",
        "from math import sqrt\n",
        "from sklearn.cluster import KMeans\n",
        "from tensorflow.keras import utils\n",
        "from difflib import get_close_matches\n",
        "from sklearn.utils import validation"
      ]
    },
    {
      "cell_type": "markdown",
      "metadata": {
        "id": "lCZnzgAQXdYn"
      },
      "source": [
        "#Загрузка данных\n",
        "\n",
        "Столбцы переименуем"
      ]
    },
    {
      "cell_type": "code",
      "execution_count": null,
      "metadata": {
        "id": "mGg3_HkTFuJv"
      },
      "outputs": [],
      "source": [
        "column_names = ['id', 'dt', 'fio', 'gender_age_birthday', 'salary', \n",
        "                'job_position_search', 'city', 'employment', 'schedule', \n",
        "                'experience', 'last_position', 'job_position_current', 'education', \n",
        "                'date_last_modified', 'suitable']\n",
        "df = pd.read_excel(open('/content/Dataset_HR_581.xlsx', 'rb'), sheet_name='Лист1', names=column_names)"
      ]
    },
    {
      "cell_type": "markdown",
      "source": [
        "#Подготовка данных к анализу"
      ],
      "metadata": {
        "id": "C-afp6O9brOQ"
      }
    },
    {
      "cell_type": "code",
      "execution_count": null,
      "metadata": {
        "colab": {
          "base_uri": "https://localhost:8080/"
        },
        "id": "bDfSBJ2tGCgD",
        "outputId": "fc20a611-da72-4970-d642-8fd2b0d4cdf5"
      },
      "outputs": [
        {
          "output_type": "stream",
          "name": "stdout",
          "text": [
            "<class 'pandas.core.frame.DataFrame'>\n",
            "RangeIndex: 579 entries, 0 to 578\n",
            "Data columns (total 15 columns):\n",
            " #   Column                Non-Null Count  Dtype \n",
            "---  ------                --------------  ----- \n",
            " 0   id                    579 non-null    int64 \n",
            " 1   dt                    579 non-null    object\n",
            " 2   fio                   579 non-null    object\n",
            " 3   gender_age_birthday   579 non-null    object\n",
            " 4   salary                579 non-null    object\n",
            " 5   job_position_search   579 non-null    object\n",
            " 6   city                  579 non-null    object\n",
            " 7   employment            579 non-null    object\n",
            " 8   schedule              579 non-null    object\n",
            " 9   experience            579 non-null    object\n",
            " 10  last_position         579 non-null    object\n",
            " 11  job_position_current  579 non-null    object\n",
            " 12  education             579 non-null    object\n",
            " 13  date_last_modified    579 non-null    object\n",
            " 14  suitable              500 non-null    object\n",
            "dtypes: int64(1), object(14)\n",
            "memory usage: 68.0+ KB\n"
          ]
        }
      ],
      "source": [
        "df.info()"
      ]
    },
    {
      "cell_type": "code",
      "execution_count": null,
      "metadata": {
        "colab": {
          "base_uri": "https://localhost:8080/",
          "height": 687
        },
        "id": "F3pRc0eAMJ0Z",
        "outputId": "6de4413d-ce0e-4517-b7f5-e03d77c8590b"
      },
      "outputs": [
        {
          "output_type": "execute_result",
          "data": {
            "text/plain": [
              "   id                   dt                              fio  \\\n",
              "0   0  2023-02-23 00:00:00                 Bessonova Mariya   \n",
              "1   1  2023-01-11 00:00:00  Ефремова Екатерина Вячеславовна   \n",
              "2   2  2023-02-27 00:00:00          Фролов Артур Михайлович   \n",
              "3   3  2023-01-11 00:00:00         Хозаев Расул Шагаманович   \n",
              "4   4  2023-01-11 00:00:00           Шадрин Олег Михайлович   \n",
              "\n",
              "                         gender_age_birthday        salary  \\\n",
              "0                                    Женщина   90 000 руб.   \n",
              "1                                    Женщина    не указана   \n",
              "2  Мужчина, 33 года, родился 23 августа 1989  150 000 руб.   \n",
              "3   Мужчина, 32 года, родился 7 декабря 1990    не указана   \n",
              "4   Мужчина, 26 лет, родился 21 февраля 1996  150 000 руб.   \n",
              "\n",
              "      job_position_search                                               city  \\\n",
              "0  Growth Product Manager  Индонезия, Не готова к переезду, не готова к к...   \n",
              "1  Growth Product Manager  Москва, Готова к переезду, готова к командировкам   \n",
              "2  Growth Product Manager  Санкт-Петербург, Готов к переезду: Москва, гот...   \n",
              "3  Growth Product Manager  Москва, м. Молодежная, Хочу переехать, готов к...   \n",
              "4  Growth Product Manager       Пермь, Хочу переехать, готов к командировкам   \n",
              "\n",
              "                                          employment  \\\n",
              "0  проектная работа, частичная занятость, полная ...   \n",
              "1                                   полная занятость   \n",
              "2  проектная работа, частичная занятость, полная ...   \n",
              "3  стажировка, частичная занятость, полная занятость   \n",
              "4  проектная работа, частичная занятость, полная ...   \n",
              "\n",
              "                                       schedule  \\\n",
              "0                              удаленная работа   \n",
              "1  удаленная работа, гибкий график, полный день   \n",
              "2  удаленная работа, гибкий график, полный день   \n",
              "3  удаленная работа, гибкий график, полный день   \n",
              "4  удаленная работа, гибкий график, полный день   \n",
              "\n",
              "                       experience  \\\n",
              "0   Опыт работы —5 лет 10 месяцев   \n",
              "1  Опыт работы —11 лет 11 месяцев   \n",
              "2     Опыт работы —7 лет 2 месяца   \n",
              "3   Опыт работы —8 лет 10 месяцев   \n",
              "4    Опыт работы —5 лет 9 месяцев   \n",
              "\n",
              "                                       last_position  \\\n",
              "0                                PT MYBALI APP GROUP   \n",
              "1                                      Банк Открытие   \n",
              "2                                          DIKIY LLC   \n",
              "3                                           WeInvest   \n",
              "4  Индивидуальное предпринимательство / частная п...   \n",
              "\n",
              "                          job_position_current  \\\n",
              "0                         Менеджер по продукту   \n",
              "1  Product owner трайб сбережения и инвестиции   \n",
              "2      Директор по маркетингу и бренд-менеджер   \n",
              "3                Product Manager (team leader)   \n",
              "4                      Product/Project manager   \n",
              "\n",
              "                                           education       date_last_modified  \\\n",
              "0  Высшее, 2023, Нетоло́гия, 2014, Университет Ро...  23 февраля 2023 в 16:30   \n",
              "1  Высшее, 2022, GeekBrains, 2010, Московский худ...   8 февраля 2023 в 09:15   \n",
              "2  Высшее, 2013, Санкт-Петербургский государствен...  28 февраля 2023 в 09:41   \n",
              "3  Магистр, 2014, Московский государственный техн...   24 января 2023 в 12:07   \n",
              "4  Высшее, 2021, Российская академия народного хо...   6 февраля 2023 в 11:18   \n",
              "\n",
              "  suitable  \n",
              "0       да  \n",
              "1       да  \n",
              "2       да  \n",
              "3       да  \n",
              "4       да  "
            ],
            "text/html": [
              "\n",
              "  <div id=\"df-4e538e13-cccd-4ead-aae6-c1fef015abb2\">\n",
              "    <div class=\"colab-df-container\">\n",
              "      <div>\n",
              "<style scoped>\n",
              "    .dataframe tbody tr th:only-of-type {\n",
              "        vertical-align: middle;\n",
              "    }\n",
              "\n",
              "    .dataframe tbody tr th {\n",
              "        vertical-align: top;\n",
              "    }\n",
              "\n",
              "    .dataframe thead th {\n",
              "        text-align: right;\n",
              "    }\n",
              "</style>\n",
              "<table border=\"1\" class=\"dataframe\">\n",
              "  <thead>\n",
              "    <tr style=\"text-align: right;\">\n",
              "      <th></th>\n",
              "      <th>id</th>\n",
              "      <th>dt</th>\n",
              "      <th>fio</th>\n",
              "      <th>gender_age_birthday</th>\n",
              "      <th>salary</th>\n",
              "      <th>job_position_search</th>\n",
              "      <th>city</th>\n",
              "      <th>employment</th>\n",
              "      <th>schedule</th>\n",
              "      <th>experience</th>\n",
              "      <th>last_position</th>\n",
              "      <th>job_position_current</th>\n",
              "      <th>education</th>\n",
              "      <th>date_last_modified</th>\n",
              "      <th>suitable</th>\n",
              "    </tr>\n",
              "  </thead>\n",
              "  <tbody>\n",
              "    <tr>\n",
              "      <th>0</th>\n",
              "      <td>0</td>\n",
              "      <td>2023-02-23 00:00:00</td>\n",
              "      <td>Bessonova Mariya</td>\n",
              "      <td>Женщина</td>\n",
              "      <td>90 000 руб.</td>\n",
              "      <td>Growth Product Manager</td>\n",
              "      <td>Индонезия, Не готова к переезду, не готова к к...</td>\n",
              "      <td>проектная работа, частичная занятость, полная ...</td>\n",
              "      <td>удаленная работа</td>\n",
              "      <td>Опыт работы —5 лет 10 месяцев</td>\n",
              "      <td>PT MYBALI APP GROUP</td>\n",
              "      <td>Менеджер по продукту</td>\n",
              "      <td>Высшее, 2023, Нетоло́гия, 2014, Университет Ро...</td>\n",
              "      <td>23 февраля 2023 в 16:30</td>\n",
              "      <td>да</td>\n",
              "    </tr>\n",
              "    <tr>\n",
              "      <th>1</th>\n",
              "      <td>1</td>\n",
              "      <td>2023-01-11 00:00:00</td>\n",
              "      <td>Ефремова Екатерина Вячеславовна</td>\n",
              "      <td>Женщина</td>\n",
              "      <td>не указана</td>\n",
              "      <td>Growth Product Manager</td>\n",
              "      <td>Москва, Готова к переезду, готова к командировкам</td>\n",
              "      <td>полная занятость</td>\n",
              "      <td>удаленная работа, гибкий график, полный день</td>\n",
              "      <td>Опыт работы —11 лет 11 месяцев</td>\n",
              "      <td>Банк Открытие</td>\n",
              "      <td>Product owner трайб сбережения и инвестиции</td>\n",
              "      <td>Высшее, 2022, GeekBrains, 2010, Московский худ...</td>\n",
              "      <td>8 февраля 2023 в 09:15</td>\n",
              "      <td>да</td>\n",
              "    </tr>\n",
              "    <tr>\n",
              "      <th>2</th>\n",
              "      <td>2</td>\n",
              "      <td>2023-02-27 00:00:00</td>\n",
              "      <td>Фролов Артур Михайлович</td>\n",
              "      <td>Мужчина, 33 года, родился 23 августа 1989</td>\n",
              "      <td>150 000 руб.</td>\n",
              "      <td>Growth Product Manager</td>\n",
              "      <td>Санкт-Петербург, Готов к переезду: Москва, гот...</td>\n",
              "      <td>проектная работа, частичная занятость, полная ...</td>\n",
              "      <td>удаленная работа, гибкий график, полный день</td>\n",
              "      <td>Опыт работы —7 лет 2 месяца</td>\n",
              "      <td>DIKIY LLC</td>\n",
              "      <td>Директор по маркетингу и бренд-менеджер</td>\n",
              "      <td>Высшее, 2013, Санкт-Петербургский государствен...</td>\n",
              "      <td>28 февраля 2023 в 09:41</td>\n",
              "      <td>да</td>\n",
              "    </tr>\n",
              "    <tr>\n",
              "      <th>3</th>\n",
              "      <td>3</td>\n",
              "      <td>2023-01-11 00:00:00</td>\n",
              "      <td>Хозаев Расул Шагаманович</td>\n",
              "      <td>Мужчина, 32 года, родился 7 декабря 1990</td>\n",
              "      <td>не указана</td>\n",
              "      <td>Growth Product Manager</td>\n",
              "      <td>Москва, м. Молодежная, Хочу переехать, готов к...</td>\n",
              "      <td>стажировка, частичная занятость, полная занятость</td>\n",
              "      <td>удаленная работа, гибкий график, полный день</td>\n",
              "      <td>Опыт работы —8 лет 10 месяцев</td>\n",
              "      <td>WeInvest</td>\n",
              "      <td>Product Manager (team leader)</td>\n",
              "      <td>Магистр, 2014, Московский государственный техн...</td>\n",
              "      <td>24 января 2023 в 12:07</td>\n",
              "      <td>да</td>\n",
              "    </tr>\n",
              "    <tr>\n",
              "      <th>4</th>\n",
              "      <td>4</td>\n",
              "      <td>2023-01-11 00:00:00</td>\n",
              "      <td>Шадрин Олег Михайлович</td>\n",
              "      <td>Мужчина, 26 лет, родился 21 февраля 1996</td>\n",
              "      <td>150 000 руб.</td>\n",
              "      <td>Growth Product Manager</td>\n",
              "      <td>Пермь, Хочу переехать, готов к командировкам</td>\n",
              "      <td>проектная работа, частичная занятость, полная ...</td>\n",
              "      <td>удаленная работа, гибкий график, полный день</td>\n",
              "      <td>Опыт работы —5 лет 9 месяцев</td>\n",
              "      <td>Индивидуальное предпринимательство / частная п...</td>\n",
              "      <td>Product/Project manager</td>\n",
              "      <td>Высшее, 2021, Российская академия народного хо...</td>\n",
              "      <td>6 февраля 2023 в 11:18</td>\n",
              "      <td>да</td>\n",
              "    </tr>\n",
              "  </tbody>\n",
              "</table>\n",
              "</div>\n",
              "      <button class=\"colab-df-convert\" onclick=\"convertToInteractive('df-4e538e13-cccd-4ead-aae6-c1fef015abb2')\"\n",
              "              title=\"Convert this dataframe to an interactive table.\"\n",
              "              style=\"display:none;\">\n",
              "        \n",
              "  <svg xmlns=\"http://www.w3.org/2000/svg\" height=\"24px\"viewBox=\"0 0 24 24\"\n",
              "       width=\"24px\">\n",
              "    <path d=\"M0 0h24v24H0V0z\" fill=\"none\"/>\n",
              "    <path d=\"M18.56 5.44l.94 2.06.94-2.06 2.06-.94-2.06-.94-.94-2.06-.94 2.06-2.06.94zm-11 1L8.5 8.5l.94-2.06 2.06-.94-2.06-.94L8.5 2.5l-.94 2.06-2.06.94zm10 10l.94 2.06.94-2.06 2.06-.94-2.06-.94-.94-2.06-.94 2.06-2.06.94z\"/><path d=\"M17.41 7.96l-1.37-1.37c-.4-.4-.92-.59-1.43-.59-.52 0-1.04.2-1.43.59L10.3 9.45l-7.72 7.72c-.78.78-.78 2.05 0 2.83L4 21.41c.39.39.9.59 1.41.59.51 0 1.02-.2 1.41-.59l7.78-7.78 2.81-2.81c.8-.78.8-2.07 0-2.86zM5.41 20L4 18.59l7.72-7.72 1.47 1.35L5.41 20z\"/>\n",
              "  </svg>\n",
              "      </button>\n",
              "      \n",
              "  <style>\n",
              "    .colab-df-container {\n",
              "      display:flex;\n",
              "      flex-wrap:wrap;\n",
              "      gap: 12px;\n",
              "    }\n",
              "\n",
              "    .colab-df-convert {\n",
              "      background-color: #E8F0FE;\n",
              "      border: none;\n",
              "      border-radius: 50%;\n",
              "      cursor: pointer;\n",
              "      display: none;\n",
              "      fill: #1967D2;\n",
              "      height: 32px;\n",
              "      padding: 0 0 0 0;\n",
              "      width: 32px;\n",
              "    }\n",
              "\n",
              "    .colab-df-convert:hover {\n",
              "      background-color: #E2EBFA;\n",
              "      box-shadow: 0px 1px 2px rgba(60, 64, 67, 0.3), 0px 1px 3px 1px rgba(60, 64, 67, 0.15);\n",
              "      fill: #174EA6;\n",
              "    }\n",
              "\n",
              "    [theme=dark] .colab-df-convert {\n",
              "      background-color: #3B4455;\n",
              "      fill: #D2E3FC;\n",
              "    }\n",
              "\n",
              "    [theme=dark] .colab-df-convert:hover {\n",
              "      background-color: #434B5C;\n",
              "      box-shadow: 0px 1px 3px 1px rgba(0, 0, 0, 0.15);\n",
              "      filter: drop-shadow(0px 1px 2px rgba(0, 0, 0, 0.3));\n",
              "      fill: #FFFFFF;\n",
              "    }\n",
              "  </style>\n",
              "\n",
              "      <script>\n",
              "        const buttonEl =\n",
              "          document.querySelector('#df-4e538e13-cccd-4ead-aae6-c1fef015abb2 button.colab-df-convert');\n",
              "        buttonEl.style.display =\n",
              "          google.colab.kernel.accessAllowed ? 'block' : 'none';\n",
              "\n",
              "        async function convertToInteractive(key) {\n",
              "          const element = document.querySelector('#df-4e538e13-cccd-4ead-aae6-c1fef015abb2');\n",
              "          const dataTable =\n",
              "            await google.colab.kernel.invokeFunction('convertToInteractive',\n",
              "                                                     [key], {});\n",
              "          if (!dataTable) return;\n",
              "\n",
              "          const docLinkHtml = 'Like what you see? Visit the ' +\n",
              "            '<a target=\"_blank\" href=https://colab.research.google.com/notebooks/data_table.ipynb>data table notebook</a>'\n",
              "            + ' to learn more about interactive tables.';\n",
              "          element.innerHTML = '';\n",
              "          dataTable['output_type'] = 'display_data';\n",
              "          await google.colab.output.renderOutput(dataTable, element);\n",
              "          const docLink = document.createElement('div');\n",
              "          docLink.innerHTML = docLinkHtml;\n",
              "          element.appendChild(docLink);\n",
              "        }\n",
              "      </script>\n",
              "    </div>\n",
              "  </div>\n",
              "  "
            ]
          },
          "metadata": {},
          "execution_count": 5
        }
      ],
      "source": [
        "df.head()"
      ]
    },
    {
      "cell_type": "markdown",
      "source": [
        "Удалим ненужный столбец id, т.к. pandas создаем свой индекс записи"
      ],
      "metadata": {
        "id": "dq-9Ck-Wb7NP"
      }
    },
    {
      "cell_type": "code",
      "execution_count": null,
      "metadata": {
        "id": "uH1yMEiqGD8M"
      },
      "outputs": [],
      "source": [
        "df = df.drop(df.columns[0],axis = 1)"
      ]
    },
    {
      "cell_type": "markdown",
      "metadata": {
        "id": "p3EVU6d6oTtD"
      },
      "source": [
        "Посмотрим что лежит в столбце, в котором есть хоть какая то нужная информация"
      ]
    },
    {
      "cell_type": "code",
      "execution_count": null,
      "metadata": {
        "colab": {
          "base_uri": "https://localhost:8080/"
        },
        "id": "H5rIUL1VWALL",
        "outputId": "43517ee9-c886-4979-8452-d53818133b36"
      },
      "outputs": [
        {
          "output_type": "stream",
          "name": "stdout",
          "text": [
            "salary: ['90 000 руб.' 'не указана' '150 000 руб.' '120 000 руб.' '100 000 руб.']\n",
            "job_position_search: ['Growth Product Manager' 'Product manager в Growth Hacking команду'\n",
            " 'Директор медицинской клиники' 'HR-специалист'\n",
            " 'Product Manager в команду Финансового департамента']\n",
            "city: ['Индонезия, Не готова к переезду, не готова к командировкам'\n",
            " 'Москва, Готова к переезду, готова к командировкам'\n",
            " 'Санкт-Петербург, Готов к переезду: Москва, готов к командировкам'\n",
            " 'Москва, м. Молодежная, Хочу переехать, готов к командировкам'\n",
            " 'Пермь, Хочу переехать, готов к командировкам']\n",
            "employment: ['проектная работа, частичная занятость, полная занятость'\n",
            " 'полная занятость' 'стажировка, частичная занятость, полная занятость'\n",
            " 'полная занятость, частичная занятость, проектная работа'\n",
            " 'проектная работа, полная занятость']\n",
            "schedule: ['удаленная работа' 'удаленная работа, гибкий график, полный день'\n",
            " 'полный день, гибкий график' 'полный день'\n",
            " 'удаленная работа, полный день']\n",
            "experience: ['Опыт работы —5 лет 10 месяцев' 'Опыт работы —11 лет 11 месяцев'\n",
            " 'Опыт работы —7 лет 2 месяца' 'Опыт работы —8 лет 10 месяцев'\n",
            " 'Опыт работы —5 лет 9 месяцев']\n",
            "last_position: ['PT MYBALI APP GROUP' 'Банк Открытие' 'DIKIY LLC' 'WeInvest'\n",
            " 'Индивидуальное предпринимательство / частная практика / фриланс']\n",
            "job_position_current: ['Менеджер по продукту' 'Product owner трайб сбережения и инвестиции'\n",
            " 'Директор по маркетингу и бренд-менеджер' 'Product Manager (team leader)'\n",
            " 'Product/Project manager']\n",
            "education: ['Высшее, 2023, Нетоло́гия, 2014, Университет Российской академии образования, Москва'\n",
            " 'Высшее, 2022, GeekBrains, 2010, Московский художественно-промышленный институт, Москва'\n",
            " 'Высшее, 2013, Санкт-Петербургский государственный университет промышленных технологий и дизайна, Санкт-Петербург'\n",
            " 'Магистр, 2014, Московский государственный технический университет им. Н.Э. Баумана, Москва, 2012, Московский государственный технический университет им. Н.Э. Баумана, Москва'\n",
            " 'Высшее, 2021, Российская академия народного хозяйства и государственной службы при Президенте РФ, Москва']\n",
            "suitable: ['да' 'нет' nan]\n"
          ]
        }
      ],
      "source": [
        "def show_columns(other = []) :\n",
        "  column_names_process = {'salary', \n",
        "                'job_position_search', 'city', 'employment', 'schedule', \n",
        "                'experience', 'last_position', 'job_position_current', 'education', \n",
        "                'suitable'}\n",
        "  set.union(column_names_process, other)\n",
        "  for i in df.keys():\n",
        "    if i in column_names_process:\n",
        "      print(f\"{i}: {df[i].unique()[:5]}\")\n",
        "\n",
        "show_columns()"
      ]
    },
    {
      "cell_type": "markdown",
      "source": [
        "Разобьем некоторые столбцы"
      ],
      "metadata": {
        "id": "H_pf0MNbcTiW"
      }
    },
    {
      "cell_type": "code",
      "source": [
        "df[['education', 'univercity']] = df['education'].str.split(',', 1, expand=True)\n",
        "df[['city', 'moveable']] = df['city'].str.split(',', 1, expand=True)"
      ],
      "metadata": {
        "colab": {
          "base_uri": "https://localhost:8080/"
        },
        "id": "-VZkcvgGwQT7",
        "outputId": "bb29fc3d-02ae-45a8-e199-698dee7a5814"
      },
      "execution_count": null,
      "outputs": [
        {
          "output_type": "stream",
          "name": "stderr",
          "text": [
            "<ipython-input-8-46907fa0e1e5>:1: FutureWarning: In a future version of pandas all arguments of StringMethods.split except for the argument 'pat' will be keyword-only.\n",
            "  df[['education', 'univercity']] = df['education'].str.split(',', 1, expand=True)\n",
            "<ipython-input-8-46907fa0e1e5>:2: FutureWarning: In a future version of pandas all arguments of StringMethods.split except for the argument 'pat' will be keyword-only.\n",
            "  df[['city', 'moveable']] = df['city'].str.split(',', 1, expand=True)\n"
          ]
        }
      ]
    },
    {
      "cell_type": "code",
      "execution_count": null,
      "metadata": {
        "id": "rTGuVAHuWGGL",
        "colab": {
          "base_uri": "https://localhost:8080/",
          "height": 687
        },
        "outputId": "21d80188-207d-4221-d129-a44495430366"
      },
      "outputs": [
        {
          "output_type": "execute_result",
          "data": {
            "text/plain": [
              "                    dt                              fio  \\\n",
              "0  2023-02-23 00:00:00                 Bessonova Mariya   \n",
              "1  2023-01-11 00:00:00  Ефремова Екатерина Вячеславовна   \n",
              "2  2023-02-27 00:00:00          Фролов Артур Михайлович   \n",
              "3  2023-01-11 00:00:00         Хозаев Расул Шагаманович   \n",
              "4  2023-01-11 00:00:00           Шадрин Олег Михайлович   \n",
              "\n",
              "                         gender_age_birthday        salary  \\\n",
              "0                                    Женщина   90 000 руб.   \n",
              "1                                    Женщина    не указана   \n",
              "2  Мужчина, 33 года, родился 23 августа 1989  150 000 руб.   \n",
              "3   Мужчина, 32 года, родился 7 декабря 1990    не указана   \n",
              "4   Мужчина, 26 лет, родился 21 февраля 1996  150 000 руб.   \n",
              "\n",
              "      job_position_search             city  \\\n",
              "0  Growth Product Manager        Индонезия   \n",
              "1  Growth Product Manager           Москва   \n",
              "2  Growth Product Manager  Санкт-Петербург   \n",
              "3  Growth Product Manager           Москва   \n",
              "4  Growth Product Manager            Пермь   \n",
              "\n",
              "                                          employment  \\\n",
              "0  проектная работа, частичная занятость, полная ...   \n",
              "1                                   полная занятость   \n",
              "2  проектная работа, частичная занятость, полная ...   \n",
              "3  стажировка, частичная занятость, полная занятость   \n",
              "4  проектная работа, частичная занятость, полная ...   \n",
              "\n",
              "                                       schedule  \\\n",
              "0                              удаленная работа   \n",
              "1  удаленная работа, гибкий график, полный день   \n",
              "2  удаленная работа, гибкий график, полный день   \n",
              "3  удаленная работа, гибкий график, полный день   \n",
              "4  удаленная работа, гибкий график, полный день   \n",
              "\n",
              "                       experience  \\\n",
              "0   Опыт работы —5 лет 10 месяцев   \n",
              "1  Опыт работы —11 лет 11 месяцев   \n",
              "2     Опыт работы —7 лет 2 месяца   \n",
              "3   Опыт работы —8 лет 10 месяцев   \n",
              "4    Опыт работы —5 лет 9 месяцев   \n",
              "\n",
              "                                       last_position  \\\n",
              "0                                PT MYBALI APP GROUP   \n",
              "1                                      Банк Открытие   \n",
              "2                                          DIKIY LLC   \n",
              "3                                           WeInvest   \n",
              "4  Индивидуальное предпринимательство / частная п...   \n",
              "\n",
              "                          job_position_current education  \\\n",
              "0                         Менеджер по продукту    Высшее   \n",
              "1  Product owner трайб сбережения и инвестиции    Высшее   \n",
              "2      Директор по маркетингу и бренд-менеджер    Высшее   \n",
              "3                Product Manager (team leader)   Магистр   \n",
              "4                      Product/Project manager    Высшее   \n",
              "\n",
              "        date_last_modified suitable  \\\n",
              "0  23 февраля 2023 в 16:30       да   \n",
              "1   8 февраля 2023 в 09:15       да   \n",
              "2  28 февраля 2023 в 09:41       да   \n",
              "3   24 января 2023 в 12:07       да   \n",
              "4   6 февраля 2023 в 11:18       да   \n",
              "\n",
              "                                          univercity  \\\n",
              "0   2023, Нетоло́гия, 2014, Университет Российско...   \n",
              "1   2022, GeekBrains, 2010, Московский художестве...   \n",
              "2   2013, Санкт-Петербургский государственный уни...   \n",
              "3   2014, Московский государственный технический ...   \n",
              "4   2021, Российская академия народного хозяйства...   \n",
              "\n",
              "                                            moveable  \n",
              "0    Не готова к переезду, не готова к командировкам  \n",
              "1          Готова к переезду, готова к командировкам  \n",
              "2    Готов к переезду: Москва, готов к командировкам  \n",
              "3   м. Молодежная, Хочу переехать, готов к команд...  \n",
              "4              Хочу переехать, готов к командировкам  "
            ],
            "text/html": [
              "\n",
              "  <div id=\"df-10b8f2d8-8c32-4ac9-af02-b8e9aa316837\">\n",
              "    <div class=\"colab-df-container\">\n",
              "      <div>\n",
              "<style scoped>\n",
              "    .dataframe tbody tr th:only-of-type {\n",
              "        vertical-align: middle;\n",
              "    }\n",
              "\n",
              "    .dataframe tbody tr th {\n",
              "        vertical-align: top;\n",
              "    }\n",
              "\n",
              "    .dataframe thead th {\n",
              "        text-align: right;\n",
              "    }\n",
              "</style>\n",
              "<table border=\"1\" class=\"dataframe\">\n",
              "  <thead>\n",
              "    <tr style=\"text-align: right;\">\n",
              "      <th></th>\n",
              "      <th>dt</th>\n",
              "      <th>fio</th>\n",
              "      <th>gender_age_birthday</th>\n",
              "      <th>salary</th>\n",
              "      <th>job_position_search</th>\n",
              "      <th>city</th>\n",
              "      <th>employment</th>\n",
              "      <th>schedule</th>\n",
              "      <th>experience</th>\n",
              "      <th>last_position</th>\n",
              "      <th>job_position_current</th>\n",
              "      <th>education</th>\n",
              "      <th>date_last_modified</th>\n",
              "      <th>suitable</th>\n",
              "      <th>univercity</th>\n",
              "      <th>moveable</th>\n",
              "    </tr>\n",
              "  </thead>\n",
              "  <tbody>\n",
              "    <tr>\n",
              "      <th>0</th>\n",
              "      <td>2023-02-23 00:00:00</td>\n",
              "      <td>Bessonova Mariya</td>\n",
              "      <td>Женщина</td>\n",
              "      <td>90 000 руб.</td>\n",
              "      <td>Growth Product Manager</td>\n",
              "      <td>Индонезия</td>\n",
              "      <td>проектная работа, частичная занятость, полная ...</td>\n",
              "      <td>удаленная работа</td>\n",
              "      <td>Опыт работы —5 лет 10 месяцев</td>\n",
              "      <td>PT MYBALI APP GROUP</td>\n",
              "      <td>Менеджер по продукту</td>\n",
              "      <td>Высшее</td>\n",
              "      <td>23 февраля 2023 в 16:30</td>\n",
              "      <td>да</td>\n",
              "      <td>2023, Нетоло́гия, 2014, Университет Российско...</td>\n",
              "      <td>Не готова к переезду, не готова к командировкам</td>\n",
              "    </tr>\n",
              "    <tr>\n",
              "      <th>1</th>\n",
              "      <td>2023-01-11 00:00:00</td>\n",
              "      <td>Ефремова Екатерина Вячеславовна</td>\n",
              "      <td>Женщина</td>\n",
              "      <td>не указана</td>\n",
              "      <td>Growth Product Manager</td>\n",
              "      <td>Москва</td>\n",
              "      <td>полная занятость</td>\n",
              "      <td>удаленная работа, гибкий график, полный день</td>\n",
              "      <td>Опыт работы —11 лет 11 месяцев</td>\n",
              "      <td>Банк Открытие</td>\n",
              "      <td>Product owner трайб сбережения и инвестиции</td>\n",
              "      <td>Высшее</td>\n",
              "      <td>8 февраля 2023 в 09:15</td>\n",
              "      <td>да</td>\n",
              "      <td>2022, GeekBrains, 2010, Московский художестве...</td>\n",
              "      <td>Готова к переезду, готова к командировкам</td>\n",
              "    </tr>\n",
              "    <tr>\n",
              "      <th>2</th>\n",
              "      <td>2023-02-27 00:00:00</td>\n",
              "      <td>Фролов Артур Михайлович</td>\n",
              "      <td>Мужчина, 33 года, родился 23 августа 1989</td>\n",
              "      <td>150 000 руб.</td>\n",
              "      <td>Growth Product Manager</td>\n",
              "      <td>Санкт-Петербург</td>\n",
              "      <td>проектная работа, частичная занятость, полная ...</td>\n",
              "      <td>удаленная работа, гибкий график, полный день</td>\n",
              "      <td>Опыт работы —7 лет 2 месяца</td>\n",
              "      <td>DIKIY LLC</td>\n",
              "      <td>Директор по маркетингу и бренд-менеджер</td>\n",
              "      <td>Высшее</td>\n",
              "      <td>28 февраля 2023 в 09:41</td>\n",
              "      <td>да</td>\n",
              "      <td>2013, Санкт-Петербургский государственный уни...</td>\n",
              "      <td>Готов к переезду: Москва, готов к командировкам</td>\n",
              "    </tr>\n",
              "    <tr>\n",
              "      <th>3</th>\n",
              "      <td>2023-01-11 00:00:00</td>\n",
              "      <td>Хозаев Расул Шагаманович</td>\n",
              "      <td>Мужчина, 32 года, родился 7 декабря 1990</td>\n",
              "      <td>не указана</td>\n",
              "      <td>Growth Product Manager</td>\n",
              "      <td>Москва</td>\n",
              "      <td>стажировка, частичная занятость, полная занятость</td>\n",
              "      <td>удаленная работа, гибкий график, полный день</td>\n",
              "      <td>Опыт работы —8 лет 10 месяцев</td>\n",
              "      <td>WeInvest</td>\n",
              "      <td>Product Manager (team leader)</td>\n",
              "      <td>Магистр</td>\n",
              "      <td>24 января 2023 в 12:07</td>\n",
              "      <td>да</td>\n",
              "      <td>2014, Московский государственный технический ...</td>\n",
              "      <td>м. Молодежная, Хочу переехать, готов к команд...</td>\n",
              "    </tr>\n",
              "    <tr>\n",
              "      <th>4</th>\n",
              "      <td>2023-01-11 00:00:00</td>\n",
              "      <td>Шадрин Олег Михайлович</td>\n",
              "      <td>Мужчина, 26 лет, родился 21 февраля 1996</td>\n",
              "      <td>150 000 руб.</td>\n",
              "      <td>Growth Product Manager</td>\n",
              "      <td>Пермь</td>\n",
              "      <td>проектная работа, частичная занятость, полная ...</td>\n",
              "      <td>удаленная работа, гибкий график, полный день</td>\n",
              "      <td>Опыт работы —5 лет 9 месяцев</td>\n",
              "      <td>Индивидуальное предпринимательство / частная п...</td>\n",
              "      <td>Product/Project manager</td>\n",
              "      <td>Высшее</td>\n",
              "      <td>6 февраля 2023 в 11:18</td>\n",
              "      <td>да</td>\n",
              "      <td>2021, Российская академия народного хозяйства...</td>\n",
              "      <td>Хочу переехать, готов к командировкам</td>\n",
              "    </tr>\n",
              "  </tbody>\n",
              "</table>\n",
              "</div>\n",
              "      <button class=\"colab-df-convert\" onclick=\"convertToInteractive('df-10b8f2d8-8c32-4ac9-af02-b8e9aa316837')\"\n",
              "              title=\"Convert this dataframe to an interactive table.\"\n",
              "              style=\"display:none;\">\n",
              "        \n",
              "  <svg xmlns=\"http://www.w3.org/2000/svg\" height=\"24px\"viewBox=\"0 0 24 24\"\n",
              "       width=\"24px\">\n",
              "    <path d=\"M0 0h24v24H0V0z\" fill=\"none\"/>\n",
              "    <path d=\"M18.56 5.44l.94 2.06.94-2.06 2.06-.94-2.06-.94-.94-2.06-.94 2.06-2.06.94zm-11 1L8.5 8.5l.94-2.06 2.06-.94-2.06-.94L8.5 2.5l-.94 2.06-2.06.94zm10 10l.94 2.06.94-2.06 2.06-.94-2.06-.94-.94-2.06-.94 2.06-2.06.94z\"/><path d=\"M17.41 7.96l-1.37-1.37c-.4-.4-.92-.59-1.43-.59-.52 0-1.04.2-1.43.59L10.3 9.45l-7.72 7.72c-.78.78-.78 2.05 0 2.83L4 21.41c.39.39.9.59 1.41.59.51 0 1.02-.2 1.41-.59l7.78-7.78 2.81-2.81c.8-.78.8-2.07 0-2.86zM5.41 20L4 18.59l7.72-7.72 1.47 1.35L5.41 20z\"/>\n",
              "  </svg>\n",
              "      </button>\n",
              "      \n",
              "  <style>\n",
              "    .colab-df-container {\n",
              "      display:flex;\n",
              "      flex-wrap:wrap;\n",
              "      gap: 12px;\n",
              "    }\n",
              "\n",
              "    .colab-df-convert {\n",
              "      background-color: #E8F0FE;\n",
              "      border: none;\n",
              "      border-radius: 50%;\n",
              "      cursor: pointer;\n",
              "      display: none;\n",
              "      fill: #1967D2;\n",
              "      height: 32px;\n",
              "      padding: 0 0 0 0;\n",
              "      width: 32px;\n",
              "    }\n",
              "\n",
              "    .colab-df-convert:hover {\n",
              "      background-color: #E2EBFA;\n",
              "      box-shadow: 0px 1px 2px rgba(60, 64, 67, 0.3), 0px 1px 3px 1px rgba(60, 64, 67, 0.15);\n",
              "      fill: #174EA6;\n",
              "    }\n",
              "\n",
              "    [theme=dark] .colab-df-convert {\n",
              "      background-color: #3B4455;\n",
              "      fill: #D2E3FC;\n",
              "    }\n",
              "\n",
              "    [theme=dark] .colab-df-convert:hover {\n",
              "      background-color: #434B5C;\n",
              "      box-shadow: 0px 1px 3px 1px rgba(0, 0, 0, 0.15);\n",
              "      filter: drop-shadow(0px 1px 2px rgba(0, 0, 0, 0.3));\n",
              "      fill: #FFFFFF;\n",
              "    }\n",
              "  </style>\n",
              "\n",
              "      <script>\n",
              "        const buttonEl =\n",
              "          document.querySelector('#df-10b8f2d8-8c32-4ac9-af02-b8e9aa316837 button.colab-df-convert');\n",
              "        buttonEl.style.display =\n",
              "          google.colab.kernel.accessAllowed ? 'block' : 'none';\n",
              "\n",
              "        async function convertToInteractive(key) {\n",
              "          const element = document.querySelector('#df-10b8f2d8-8c32-4ac9-af02-b8e9aa316837');\n",
              "          const dataTable =\n",
              "            await google.colab.kernel.invokeFunction('convertToInteractive',\n",
              "                                                     [key], {});\n",
              "          if (!dataTable) return;\n",
              "\n",
              "          const docLinkHtml = 'Like what you see? Visit the ' +\n",
              "            '<a target=\"_blank\" href=https://colab.research.google.com/notebooks/data_table.ipynb>data table notebook</a>'\n",
              "            + ' to learn more about interactive tables.';\n",
              "          element.innerHTML = '';\n",
              "          dataTable['output_type'] = 'display_data';\n",
              "          await google.colab.output.renderOutput(dataTable, element);\n",
              "          const docLink = document.createElement('div');\n",
              "          docLink.innerHTML = docLinkHtml;\n",
              "          element.appendChild(docLink);\n",
              "        }\n",
              "      </script>\n",
              "    </div>\n",
              "  </div>\n",
              "  "
            ]
          },
          "metadata": {},
          "execution_count": 9
        }
      ],
      "source": [
        "df.head()"
      ]
    },
    {
      "cell_type": "markdown",
      "source": [
        "Получим индексы колонок для дальнейшего использования"
      ],
      "metadata": {
        "id": "TonwmiSGc7N9"
      }
    },
    {
      "cell_type": "code",
      "source": [
        "def get_column_indexes():\n",
        "  out = {}\n",
        "  for i in range(len(df.columns)):\n",
        "    out[df.columns[i]] = i\n",
        "  return out\n",
        "get_column_indexes()"
      ],
      "metadata": {
        "colab": {
          "base_uri": "https://localhost:8080/"
        },
        "id": "SgySxeNSrh0n",
        "outputId": "cc9401b7-e41f-45fb-9f98-9ab025307bdf"
      },
      "execution_count": null,
      "outputs": [
        {
          "output_type": "execute_result",
          "data": {
            "text/plain": [
              "{'dt': 0,\n",
              " 'fio': 1,\n",
              " 'gender_age_birthday': 2,\n",
              " 'salary': 3,\n",
              " 'job_position_search': 4,\n",
              " 'city': 5,\n",
              " 'employment': 6,\n",
              " 'schedule': 7,\n",
              " 'experience': 8,\n",
              " 'last_position': 9,\n",
              " 'job_position_current': 10,\n",
              " 'education': 11,\n",
              " 'date_last_modified': 12,\n",
              " 'suitable': 13,\n",
              " 'univercity': 14,\n",
              " 'moveable': 15}"
            ]
          },
          "metadata": {},
          "execution_count": 10
        }
      ]
    },
    {
      "cell_type": "markdown",
      "source": [
        "Получим уникальные значения по колонкам"
      ],
      "metadata": {
        "id": "GRdnqvXodVDf"
      }
    },
    {
      "cell_type": "code",
      "source": [
        "unique_col_names = ['schedule', 'employment', 'job_position_search', 'education', 'city', 'salary', 'experience']\n",
        "unique_cols = {}\n",
        "for col in unique_col_names:\n",
        "  unique_list = set()\n",
        "  for i in range(df.shape[0]):\n",
        "    if df[col][i]:\n",
        "      for val in df[col][i].split(','):\n",
        "        unique_list.add(val.strip())\n",
        "  unique_cols[col] = list(unique_list)\n",
        "\n",
        "# curr\n",
        "def create_currency(arg):\n",
        "    curr = re.sub('[0-9]','',arg)\n",
        "    curr = curr.replace('.','').strip()\n",
        "    if curr != 'не указана':\n",
        "      return curr\n",
        "\n",
        "unique_list = set()\n",
        "for i in unique_cols['salary']:\n",
        "    unique_list.add(create_currency(i))\n",
        "unique_cols['currency'] = list(unique_list)\n",
        "\n",
        "for k, v in unique_cols.items(): \n",
        "  print(k, v)"
      ],
      "metadata": {
        "colab": {
          "base_uri": "https://localhost:8080/"
        },
        "id": "yRk-wi6_YcqF",
        "outputId": "7200b430-2b2c-4dfe-d8c1-73fc38d2cb82"
      },
      "execution_count": null,
      "outputs": [
        {
          "output_type": "stream",
          "name": "stdout",
          "text": [
            "schedule ['гибкий график', 'удаленная работа', 'сменный графи', 'полный день', 'удаленная', 'вахтовый метод', 'сменный график', 'полный рабочий день']\n",
            "employment ['стажировка', 'частичная занятость', 'проектная работа', 'неполный рабочий день', 'полная занятость', 'полный рабочий день', 'волонтерство']\n",
            "job_position_search ['Директор медицинской клиники', 'HR-специалист', 'Product Marketing Manager в Growth Hacking команду', 'Product manager в Growth Hacking команду', 'Project manager', 'Growth Product Manager', 'Product Manager в команду Финансового департамента', 'Product Manager в команду HR']\n",
            "education ['Среднее', 'Высшее', 'Среднее специальное', 'Среднее образование', 'Среднее специальное образование', 'Высшее образование', 'Бакалавр', 'Неоконченное высшее', 'Доктор наук', 'Незаконченное высшее образование', 'Магистр', 'Кандидат наук']\n",
            "city ['Кострома', 'Таиланд', 'Брянск', 'Санкт-Петербург', 'Энгальс', 'Астана', 'Казань', 'Ульяновск', 'Мурманск', 'Бишкек', 'Киров (Кировская область)', 'Кишинёв', 'Стерлитамак', 'Октябрьский (Республика Башкортостан)', 'Краснодар', 'Армения', 'Тюмень', 'Челябинск', 'Тула', 'Ташкент', 'Воронеж', 'Сербия', 'Волгоград', 'Екатеринбург', 'Пермь', 'Минск', 'Германия', 'Турция', 'Москва', 'Сочи', 'Томск', 'Набережные Челны', 'Алматы', 'Ярославль', 'Караганда', 'Актау', 'Уфа', 'Новосибирск', 'Саратов', 'Щелково', 'Батуми', 'ОАЭ', 'Саров', 'Йошкар-Ола', 'Израиль', 'Ростов-на-Дону', 'Индия', 'Кемерово', 'Кумертау', 'Магнитогорск', 'Индонезия', 'Нижний Новгород', 'Астрахань', 'Иркутск', 'Тольятти', 'Самара', 'Тбилиси', 'Ижевск']\n",
            "salary ['150 000 руб.', '250 000 руб.', '45 000 руб.', '350 000 руб.', '160 000 руб.', '95 000 руб.', '170 000 руб.', '35 000 руб.', '3 000 USD', '50 000 руб.', '60 000 руб.', '1 550 USD', '130 000 руб.', '140 000 руб.', '155 000 руб.', '1 900 000 KZT', '2 500 USD', '100 000 KGS', '100 000 руб.', '200 000 руб.', '127 000 руб.', '20 000 руб.', '55 000 руб.', '2 000 USD', '4 000 USD', '75 000 руб', '25 000 руб.', '85 000 руб.', '90 000 руб.', '70 000 руб.', '1 руб.', 'не указана', '80 000 руб.', '120 000 руб.', '600 000 KZT', '119 000 руб.', '180 000 руб.', '280 000 руб.', '40 000 руб.', '110 000 руб.', '65 000 руб.', '3 500 USD', '30 000 руб.', '1 200 EUR']\n",
            "experience ['Опыт работы 8 лет', 'Опыт работы —15 лет', 'Опыт работы —6 лет 2 месяца', 'Опыт работы —9 лет 5 месяцев', 'Опыт работы —8 лет 6 месяцев', 'Опыт работы —4 года 8 месяцев', 'Опыт работы —10 лет', 'Опыт работы —14 лет', 'Опыт работы —6 лет 10 месяцев', 'Опыт работы —6 лет 2 месяц', 'Опыт работы —1 год 3 месяца', 'Опыт работы 17 лет 7 месяцев', 'Опыт работы —6 лет 9 месяцев', 'Опыт работы —23 года 5 месяцев', 'Опыт работы —8 лет 3 месяца', 'Опыт работы —5 лет 10 месяцев', 'Опыт работы —5 лет 1 месяц', 'Опыт работы —14 лет 8 месяцев', 'Опыт работы —25 лет 9 месяцев', 'Опыт работы —4 года 3 месяца', 'Опыт работы —5 лет 2 месяца', 'Опыт работы —3 года 11 месяцев', 'Опыт работы —5 лет 7 месяцев', 'Опыт работы —9 лет 1 месяц', 'Опыт работы —4 года', 'Опыт работы —11 лет 11 месяцев', 'Опыт работы —13 лет 7 месяцев', 'Опыт работы —19 лет 9 месяцев', 'Опыт работы —16 лет 10 месяцев', 'Опыт работы —22 года 2 месяца', 'Опыт работы —1 год 6 месяцев', 'Опыт работы —23 года 9 месяцев', 'Опыт работы —12 лет 1 месяц', 'Опыт работы 16 лет 10 месяцев', 'Опыт работы —11 лет 8 месяцев', 'Опыт работы —12 лет 7 месяцев', 'Опыт работы —3 года 6 месяцев', 'Опыт работы —19 лет 3 месяца', 'Опыт работы —6 лет 7 месяцев', 'Опыт работы 3 года 9 месяцев', 'Опыт работы —2 года 4 месяца', 'Опыт работы —8 лет 7 месяцев', 'Опыт работы —6 лет 5 месяцев', 'Опыт работы —10 лет 5 месяцев', 'Опыт работы —11 лет 1 месяц', 'Опыт работы —18 лет', 'Опыт работы 4 года 11 месяцев', 'Опыт работы —12 лет 2 месяца', 'Опыт работы —33 года 11 месяцев', 'Опыт работы —30 лет 11 месяцев', 'Опыт работы —2 года 7 месяцев', 'Опыт работы —3 года 7 месяцев', 'Опыт работы —7 лет 11 месяцев', 'Опыт работы —14 лет 6 месяцев', 'Опыт работы —10 лет 4 месяца', 'Опыт работы —14 лет 1 месяц', 'Опыт работы —23 года 8 месяцев', 'Опыт работы —14 лет 3 месяца', 'Опыт работы —2 года 3 месяца', 'Опыт работы —13 лет 11 месяцев', 'Опыт работы —5 лет', 'Опыт работы —4 года 4 месяца', 'Опыт работы —6 лет 1 месяц', 'Опыт работы —10 лет 6 месяцев', 'Опыт работы —13 лет 6 месяцев', 'Опыт работы —13 лет 1 месяц', 'Опыт работы —11 месяцев', 'Опыт работы —27 лет 3 месяца', 'Опыт работы —7 лет 5 месяцев', 'Опыт работы —16 лет 9 месяцев', 'Опыт работы —1 год 8 месяцев', 'Опыт работы —9 лет 6 месяцев', 'Опыт работы —2 года 6 месяцев', 'Опыт работы —1 год 7 месяцев', 'Опыт работы —15 лет 5 месяцев', 'Опыт работы —34 года 6 месяцев', 'Опыт работы —8 лет 2 месяца', 'Опыт работы —4 года 6 месяцев', 'Опыт работы —20 лет 6 месяцев', 'Опыт работы —19 лет 10 месяцев', 'Опыт работы —16 лет 4 месяца', 'Опыт работы —24 года 5 месяцев', 'Опыт работы —18 лет 9 месяцев', 'Опыт работы —15 лет 10 месяцев', 'Опыт работы —4 года 10 месяцев', 'Опыт работы —16 лет 6 месяцев', 'Опыт работы —8 лет 11 месяцев', 'Опыт работы —20 лет 10 месяцев', 'Опыт работы —15 лет 8 месяцев', 'Опыт работы —14 лет 2 месяца', 'Опыт работы —21 год 6 месяцев', 'Опыт работы —37 лет 2 месяца', 'Опыт работы —4 года 9 месяцев', 'Опыт работы —2 года', 'Опыт работы —8 лет 10 месяцев', 'Опыт работы —9 лет 7 месяцев', 'Опыт работы —10 лет 11 месяцев', 'Опыт работы —7 лет 10 месяцев', 'Опыт работы —16 лет 1 месяц', 'Опыт работы —6 лет 8 месяцев', 'Опыт работы —19 лет 2 месяца', 'Опыт работы —21 год 2 месяца', 'Опыт работы —20 лет 8 месяцев', 'Опыт работы —10 месяцев', 'Опыт работы —7 лет 2 месяца', 'Опыт работы —6 лет', 'Опыт работы —10 лет 10 месяцев', 'Опыт работы —8 лет 1 месяц', 'Опыт работы —9 месяцев', 'Опыт работы —17 лет 9 месяцев', 'Опыт работы —31 год 3 месяца', 'Опыт работы —11 лет 9 месяцев', 'Опыт работы —14 лет 4 месяца', 'Опыт работы —13 лет 3 месяца', 'Опыт работы —15 лет 4 месяца', 'Опыт работы —28 лет 2 месяца', 'Опыт работы —29 лет 6 месяцев', 'Опыт работы —26 лет 2 месяца', 'Опыт работы —15 лет 3 месяца', 'Опыт работы —3 года 10 месяцев', 'Опыт работы —13 лет 8 месяцев', 'Опыт работы —25 лет 7 месяцев', 'Опыт работы 8 лет 2 месяца', 'Опыт работы —17 лет', 'Опыт работы —3 года 8 месяцев', 'Опыт работы —14 лет 10 месяцев', 'Опыт работы —6 лет 4 месяца', 'Опыт работы —5 лет 4 месяца', 'Опыт работы —2 года 5 месяцев', 'Опыт работы —7 лет', 'Опыт работы —8 лет 4 месяца', 'Опыт работы —1 год 4 месяца', 'Опыт работы —1 год 10 месяцев', 'Опыт работы —10 лет 2 месяца', 'Опыт работы —7 лет 8 месяцев', 'Опыт работы —2 года 9 месяцев', 'Опыт работы —29 лет 2 месяца', 'Опыт работы —21 год 1 месяц', 'Опыт работы —3 года 3 месяца', 'Опыт работы —27 лет 7 месяцев', 'Опыт работы —7 лет 4 месяца', 'Опыт работы —6 лет 3 месяца', 'Опыт работы —10 лет 1 месяц', 'Опыт работы —23 года 3 месяца', 'Опыт работы 10 лет 2 месяца', 'Опыт работы —22 года', 'Опыт работы —13 лет', 'Опыт работы —4 года 1 месяц', 'Опыт работы —7 лет 1 месяц', 'Опыт работы —11 лет 4 месяца', 'Опыт работы —5 лет 3 месяца', 'Опыт работы —3 года 9 месяцев', 'Опыт работы —12 лет 9 месяцев', 'Опыт работы —10 лет 3 месяца', 'Опыт работы —16 лет 7 месяцев', 'Опыт работы —4 года 7 месяцев', 'Опыт работы —8 лет 8 месяцев', 'Опыт работы —3 года 5 месяцев', 'Опыт работы —14 лет 9 месяцев', 'Опыт работы —35 лет 4 месяца', 'Опыт работы —19 лет 4 месяца', 'Опыт работы —24 года 6 месяцев', 'Опыт работы —9 лет 8 месяцев', 'Опыт работы —12 лет 3 месяца', 'Опыт работы —22 года 6 месяцев', 'Опыт работы —14 лет 7 месяцев', 'Опыт работы —4 года 2 месяца', 'Опыт работы —24 года 3 месяца', 'Опыт работы —6 лет 11 месяцев', 'Опыт работы —7 месяцев', 'Опыт работы —28 лет 11 месяцев', 'Опыт работы —11 лет 2 месяца', 'Опыт работы —18 лет 3 месяца', 'Опыт работы —26 лет 11 месяцев', 'Опыт работы —24 года 1 месяц', 'Опыт работы 9 лет 6 месяцев', 'Опыт работы 6 лет 3 месяца', 'Опыт работы —13 лет 5 месяцев', 'Опыт работы —25 лет 8 месяцев', 'Опыт работы —17 лет 4 месяца', 'Опыт работы —13 лет 2 месяца', 'Опыт работы —3 года 1 месяц', 'Опыт работы —30 лет 2 месяца', 'Опыт работы —2 месяца', 'Опыт работы —8 лет', 'Опыт работы —11 лет 10 месяцев', 'Опыт работы —2 года 10 месяцев', 'Опыт работы —16 лет 3 месяца', 'Опыт работы —21 год 11 месяцев', 'Опыт работы —15 лет 7 месяцев', 'Опыт работы —11 лет 3 месяца', 'Опыт работы — 19 лет 8 месяца', 'Опыт работы —12 лет 8 месяцев', 'Опыт работы — 3 года 10 месяцев', 'Опыт работы —25 лет 10 месяцев', 'Опыт работы —2 года 8 месяцев', 'Опыт работы —18 лет 5 месяцев', 'Опыт работы —9 лет 10 месяцев', 'Опыт работы —13 лет 9 месяцев', 'Опыт работы —17 лет 10 месяцев', 'Опыт работы —15 лет 1 месяц', 'Опыт работы —5 лет 9 месяцев', 'Опыт работы —10 лет 7 месяцев', 'Опыт работы —5 лет 5 месяцев', 'Опыт работы —11 лет 6 месяцев', 'Опыт работы —15 лет 11 месяцев', 'Опыт работы —31 год 8 месяцев', 'нет', 'Опыт работы —8 лет 9 месяцев', 'Опыт работы —15 лет 6 месяцев', 'Опыт работы —23 года 7 месяцев', 'Опыт работы —7 лет 9 месяцев', 'Опыт работы —3 года', 'Опыт работы —12 лет 4 месяца', 'Опыт работы —16 лет 5 месяцев', 'Опыт работы —20 лет 3 месяца', 'Опыт работы —26 лет 6 месяцев', 'Опыт работы —24 года 4 месяца', 'Опыт работы —1 год 1 месяц', 'Опыт работы —12 лет 6 месяцев', 'Опыт работы —8 лет 5 месяцев', 'Опыт работы —7 лет 7 месяцев', 'Опыт работы —12 лет 5 месяцев', 'Опыт работы —9 лет 4 месяца', 'Опыт работы —11 лет 7 месяцев', 'Опыт работы —5 лет 6 месяцев', 'Опыт работы —17 лет 11 месяцев', 'Опыт работы —17 лет 6 месяцев', 'Опыт работы —7 лет 6 месяцев', 'Опыт работы —9 лет 2 месяца', 'Опыт работы —2 года 2 месяца', 'Опыт работы —3 года 2 месяца', 'Опыт работы —4 месяца', 'Опыт работы —2 года 11 месяцев', 'Опыт работы —1 год 11 месяцев', 'Опыт работы —6 лет 6 месяцев', 'Опыт работы —9 лет 11 месяцев', 'Опыт работы —9 лет 3 месяца', 'Опыт работы —3 года 4 месяца', 'Опыт работы —2 года 1 месяц', 'Опыт работы —8 месяцев', 'Опыт работы —17 лет 3 месяца', 'Опыт работы —15 лет 9 месяцев', 'Опыт работы —12 лет 10 месяцев', 'Опыт работы —22 года 3 месяца', 'Опыт работы —5 лет 11 месяцев', 'Опыт работы —7 лет 3 месяца', 'Опыт работы —18 лет 2 месяца', 'Опыт работы —17 лет 2 месяца', 'Опыт работы —23 года', 'Опыт работы —19 лет 6 месяцев', 'Опыт работы —1 год 9 месяцев']\n",
            "currency ['USD', 'руб', 'KGS', 'EUR', 'KZT', None]\n"
          ]
        }
      ]
    },
    {
      "cell_type": "markdown",
      "source": [
        "#Функции по парсингу значений колонок"
      ],
      "metadata": {
        "id": "zoqUO3j6d-Cr"
      }
    },
    {
      "cell_type": "markdown",
      "source": [
        "Подготовка колонок"
      ],
      "metadata": {
        "id": "XZOmv7b3lZqD"
      }
    },
    {
      "cell_type": "code",
      "source": [
        "# gender_age_birthday\n",
        "def parse_gender_age_birthday(arg):\n",
        "  out = [None, 0]\n",
        "  #Если Мужчина, то 1. По умолчанию 0 - Женщина\n",
        "  if \"Мужчина\" in arg:\n",
        "    out[0] = \"M\"\n",
        "  if \"Женщина\" in arg:\n",
        "    out[0] = \"W\"\n",
        "  if 'родил' in arg:\n",
        "    age = arg.split(',')[1]\n",
        "    age = re.sub('[а-яА-ЯёЁ]','',age)\n",
        "    out[1] = int(age)\n",
        "  # if (len(arg) > 7):\n",
        "  #   out[1] = year_tec - int(re.findall(r'\\d{4}', arg)[0])\n",
        "  return out\n",
        "\n",
        "def create_age_column():\n",
        "  out = []\n",
        "  for i in range(df.shape[0]):\n",
        "    idx = get_column_indexes()['gender_age_birthday']\n",
        "    out.append(parse_gender_age_birthday(df.values[i][idx])[1])\n",
        "  df['age'] = out\n",
        "create_age_column()\n",
        "\n",
        "def create_gender_column():\n",
        "  out = []\n",
        "  for i in range(df.shape[0]):\n",
        "    idx = get_column_indexes()['gender_age_birthday']\n",
        "    out.append(parse_gender_age_birthday(df.values[i][idx])[0])\n",
        "  df['gender'] = out\n",
        "create_gender_column()\n",
        "\n",
        "\n",
        "currency_courses = {'USD': 79.91, 'EUR': 86.28, 'KZT': 0.1779, 'руб': 1, 'KGS': 0.91304}\n",
        "def parse_salary(salary):\n",
        "  num = salary\n",
        "  out = [0, \"\"]\n",
        "  if (type(num) == str):\n",
        "    num = re.sub(' ','',num)\n",
        "    num = re.sub('[а-яА-ЯёЁ]','',num)\n",
        "    num = re.sub('[a-zA-Z]','',num)\n",
        "    num = num.replace('.','')\n",
        "    try:\n",
        "      out[0] = int(num)\n",
        "    except:\n",
        "      None\n",
        "    curr = re.sub('[0-9]','',salary)\n",
        "    curr = curr.replace('.','').strip()\n",
        "    if curr == 'не указана':\n",
        "      curr = \"\"\n",
        "    out[1] = curr\n",
        "    \n",
        "    return out\n",
        "\n",
        "def create_salary_columns():\n",
        "  out = [[],[],[]]\n",
        "  for i in range(df.shape[0]):\n",
        "    idx = get_column_indexes()['salary']\n",
        "    vals = parse_salary(df.values[i][idx])\n",
        "    out[0].append(vals[0])\n",
        "    out[1].append(vals[1])\n",
        "    out[2].append(0 if vals[0] == 0 else round(float(vals[0])*currency_courses[vals[1]], -3))\n",
        "  df['salary_curr'] = out[0]\n",
        "  df['currency'] = out[1]\n",
        "  df['salary_rub'] = out[2]\n",
        "create_salary_columns()\n",
        "\n",
        "def parse_univercity_diploms(univercity):\n",
        "  out = [0]\n",
        "  if univercity:\n",
        "    out[0] = len(re.findall(r'\\d{4}', univercity))\n",
        "  return out\n",
        "\n",
        "def create_univercity_diplom_column():\n",
        "  out = []\n",
        "  for i in range(df.shape[0]):\n",
        "    idx = get_column_indexes()['univercity']\n",
        "    val = parse_univercity_diploms(df.values[i][idx])\n",
        "    out.append(val[0])\n",
        "  df['univercity_diplom'] = out\n",
        "create_univercity_diplom_column()\n",
        "\n",
        "def parse_experience(experience):\n",
        "  num = experience\n",
        "  out = 0\n",
        "  if experience == 'нет':\n",
        "    return out\n",
        "  num = re.sub('[а-яА-ЯёЁ]','',num)\n",
        "  num = num.replace('—','')\n",
        "  num = re.sub('  ',' ',num)\n",
        "  vals = num.strip().split(' ')\n",
        "  if len(vals) > 1:\n",
        "    out = int(vals[0])*12 + int(vals[1])\n",
        "  elif len(vals) == 1:\n",
        "    if 'лет' in experience or 'год' in experience:\n",
        "      out = int(vals[0])*12\n",
        "  return out\n",
        "\n",
        "def create_experience_column():\n",
        "  out = []\n",
        "  for i in range(df.shape[0]):\n",
        "    idx = get_column_indexes()['experience']\n",
        "    val = parse_experience(df.values[i][idx])\n",
        "    out.append(val)\n",
        "  df['experience_month'] = out\n",
        "create_experience_column()\n",
        "\n",
        "def parse_suitable(suitable):\n",
        "  out = 0\n",
        "  if suitable == 'да':\n",
        "    out = 1\n",
        "  return out \n",
        "\n",
        "def create_suitable_column():\n",
        "  out = []\n",
        "  for i in range(df.shape[0]):\n",
        "    idx = get_column_indexes()['suitable']\n",
        "    val = parse_suitable(df.values[i][idx])\n",
        "    out.append(val)\n",
        "  df['suitable'] = out\n",
        "create_suitable_column()"
      ],
      "metadata": {
        "id": "PTLxCyyGkaq8"
      },
      "execution_count": null,
      "outputs": []
    },
    {
      "cell_type": "code",
      "source": [
        "data = df.suitable.unique()\n",
        "data.sort()\n",
        "data"
      ],
      "metadata": {
        "colab": {
          "base_uri": "https://localhost:8080/"
        },
        "id": "6m8BBtnQ_UFs",
        "outputId": "1ee44e0e-8e17-4c7f-9425-a6f7246b2a8d"
      },
      "execution_count": null,
      "outputs": [
        {
          "output_type": "execute_result",
          "data": {
            "text/plain": [
              "array([0, 1])"
            ]
          },
          "metadata": {},
          "execution_count": 13
        }
      ]
    },
    {
      "cell_type": "markdown",
      "source": [
        "Функции преобразование колонок в вектора"
      ],
      "metadata": {
        "id": "9zmSGC5hlesf"
      }
    },
    {
      "cell_type": "code",
      "source": [
        "def get_fixed_unique_col(items):\n",
        "  fixed = {} \n",
        "  for i in range(len(items)):\n",
        "    item = items[i]\n",
        "    same_max = item\n",
        "    same = get_close_matches(item, items[:i]+items[i+1:])\n",
        "    for same_item in same:\n",
        "      same_max = max(same_max, same_item, key=lambda x: len(x))\n",
        "    fixed[item] = max(same_max, same, key=lambda x: len(x))  \n",
        "  return fixed\n",
        "\n",
        "for k, v in unique_cols.items():\n",
        "  if k in {'salary', 'currency'}:\n",
        "    continue\n",
        "  print(k, get_fixed_unique_col(v))"
      ],
      "metadata": {
        "colab": {
          "base_uri": "https://localhost:8080/"
        },
        "id": "ArumeFtrEaI0",
        "outputId": "a0f64205-1fe1-4709-c802-8ba880825de9"
      },
      "execution_count": null,
      "outputs": [
        {
          "output_type": "stream",
          "name": "stdout",
          "text": [
            "schedule {'гибкий график': 'гибкий график', 'удаленная работа': 'удаленная работа', 'сменный графи': 'сменный график', 'полный день': 'полный рабочий день', 'удаленная': 'удаленная работа', 'вахтовый метод': 'вахтовый метод', 'сменный график': 'сменный график', 'полный рабочий день': 'полный рабочий день'}\n",
            "employment {'стажировка': 'стажировка', 'частичная занятость': 'частичная занятость', 'проектная работа': 'проектная работа', 'неполный рабочий день': 'неполный рабочий день', 'полная занятость': 'частичная занятость', 'полный рабочий день': 'неполный рабочий день', 'волонтерство': 'волонтерство'}\n",
            "job_position_search {'Директор медицинской клиники': 'Директор медицинской клиники', 'HR-специалист': 'HR-специалист', 'Product Marketing Manager в Growth Hacking команду': 'Product Marketing Manager в Growth Hacking команду', 'Product manager в Growth Hacking команду': 'Product Marketing Manager в Growth Hacking команду', 'Project manager': 'Growth Product Manager', 'Growth Product Manager': 'Product Manager в команду HR', 'Product Manager в команду Финансового департамента': 'Product Manager в команду Финансового департамента', 'Product Manager в команду HR': 'Product Manager в команду Финансового департамента'}\n",
            "education {'Среднее': 'Среднее', 'Высшее': 'Высшее', 'Среднее специальное': 'Среднее специальное образование', 'Среднее образование': 'Незаконченное высшее образование', 'Среднее специальное образование': 'Среднее специальное образование', 'Высшее образование': 'Незаконченное высшее образование', 'Бакалавр': 'Бакалавр', 'Неоконченное высшее': 'Незаконченное высшее образование', 'Доктор наук': 'Доктор наук', 'Незаконченное высшее образование': 'Незаконченное высшее образование', 'Магистр': 'Магистр', 'Кандидат наук': 'Кандидат наук'}\n",
            "city {'Кострома': 'Кострома', 'Таиланд': 'Таиланд', 'Брянск': 'Брянск', 'Санкт-Петербург': 'Санкт-Петербург', 'Энгальс': 'Энгальс', 'Астана': 'Астрахань', 'Казань': 'Казань', 'Ульяновск': 'Ульяновск', 'Мурманск': 'Мурманск', 'Бишкек': 'Бишкек', 'Киров (Кировская область)': 'Киров (Кировская область)', 'Кишинёв': 'Кишинёв', 'Стерлитамак': 'Стерлитамак', 'Октябрьский (Республика Башкортостан)': 'Октябрьский (Республика Башкортостан)', 'Краснодар': 'Краснодар', 'Армения': 'Германия', 'Тюмень': 'Тюмень', 'Челябинск': 'Челябинск', 'Тула': 'Тула', 'Ташкент': 'Ташкент', 'Воронеж': 'Воронеж', 'Сербия': 'Сербия', 'Волгоград': 'Волгоград', 'Екатеринбург': 'Екатеринбург', 'Пермь': 'Пермь', 'Минск': 'Мурманск', 'Германия': 'Германия', 'Турция': 'Турция', 'Москва': 'Москва', 'Сочи': 'Сочи', 'Томск': 'Томск', 'Набережные Челны': 'Набережные Челны', 'Алматы': 'Алматы', 'Ярославль': 'Ярославль', 'Караганда': 'Караганда', 'Актау': 'Актау', 'Уфа': 'Уфа', 'Новосибирск': 'Новосибирск', 'Саратов': 'Саратов', 'Щелково': 'Щелково', 'Батуми': 'Батуми', 'ОАЭ': 'ОАЭ', 'Саров': 'Саратов', 'Йошкар-Ола': 'Йошкар-Ола', 'Израиль': 'Израиль', 'Ростов-на-Дону': 'Ростов-на-Дону', 'Индия': 'Индонезия', 'Кемерово': 'Кемерово', 'Кумертау': 'Кумертау', 'Магнитогорск': 'Магнитогорск', 'Индонезия': 'Индонезия', 'Нижний Новгород': 'Нижний Новгород', 'Астрахань': 'Астрахань', 'Иркутск': 'Иркутск', 'Тольятти': 'Тольятти', 'Самара': 'Саратов', 'Тбилиси': 'Тбилиси', 'Ижевск': 'Ижевск'}\n",
            "experience {'Опыт работы 8 лет': 'Опыт работы —18 лет', 'Опыт работы —15 лет': 'Опыт работы —15 лет', 'Опыт работы —6 лет 2 месяца': 'Опыт работы —26 лет 2 месяца', 'Опыт работы —9 лет 5 месяцев': 'Опыт работы —9 лет 5 месяцев', 'Опыт работы —8 лет 6 месяцев': 'Опыт работы —8 лет 6 месяцев', 'Опыт работы —4 года 8 месяцев': 'Опыт работы —4 года 8 месяцев', 'Опыт работы —10 лет': 'Опыт работы —10 лет', 'Опыт работы —14 лет': 'Опыт работы —14 лет', 'Опыт работы —6 лет 10 месяцев': 'Опыт работы —16 лет 10 месяцев', 'Опыт работы —6 лет 2 месяц': 'Опыт работы —26 лет 2 месяца', 'Опыт работы —1 год 3 месяца': 'Опыт работы —31 год 3 месяца', 'Опыт работы 17 лет 7 месяцев': 'Опыт работы —27 лет 7 месяцев', 'Опыт работы —6 лет 9 месяцев': 'Опыт работы —16 лет 9 месяцев', 'Опыт работы —23 года 5 месяцев': 'Опыт работы —23 года 5 месяцев', 'Опыт работы —8 лет 3 месяца': 'Опыт работы —18 лет 3 месяца', 'Опыт работы —5 лет 10 месяцев': 'Опыт работы —25 лет 10 месяцев', 'Опыт работы —5 лет 1 месяц': 'Опыт работы —15 лет 1 месяц', 'Опыт работы —14 лет 8 месяцев': 'Опыт работы —14 лет 8 месяцев', 'Опыт работы —25 лет 9 месяцев': 'Опыт работы —25 лет 9 месяцев', 'Опыт работы —4 года 3 месяца': 'Опыт работы —24 года 3 месяца', 'Опыт работы —5 лет 2 месяца': 'Опыт работы —5 лет 2 месяца', 'Опыт работы —3 года 11 месяцев': 'Опыт работы —33 года 11 месяцев', 'Опыт работы —5 лет 7 месяцев': 'Опыт работы —25 лет 7 месяцев', 'Опыт работы —9 лет 1 месяц': 'Опыт работы —9 лет 1 месяц', 'Опыт работы —4 года': 'Опыт работы —23 года', 'Опыт работы —11 лет 11 месяцев': 'Опыт работы —11 лет 11 месяцев', 'Опыт работы —13 лет 7 месяцев': 'Опыт работы —13 лет 7 месяцев', 'Опыт работы —19 лет 9 месяцев': 'Опыт работы —19 лет 9 месяцев', 'Опыт работы —16 лет 10 месяцев': 'Опыт работы —16 лет 10 месяцев', 'Опыт работы —22 года 2 месяца': 'Опыт работы —22 года 2 месяца', 'Опыт работы —1 год 6 месяцев': 'Опыт работы —21 год 6 месяцев', 'Опыт работы —23 года 9 месяцев': 'Опыт работы —23 года 9 месяцев', 'Опыт работы —12 лет 1 месяц': 'Опыт работы —12 лет 1 месяц', 'Опыт работы 16 лет 10 месяцев': 'Опыт работы —16 лет 10 месяцев', 'Опыт работы —11 лет 8 месяцев': 'Опыт работы —11 лет 8 месяцев', 'Опыт работы —12 лет 7 месяцев': 'Опыт работы —12 лет 7 месяцев', 'Опыт работы —3 года 6 месяцев': 'Опыт работы —34 года 6 месяцев', 'Опыт работы —19 лет 3 месяца': 'Опыт работы —19 лет 3 месяца', 'Опыт работы —6 лет 7 месяцев': 'Опыт работы —16 лет 7 месяцев', 'Опыт работы 3 года 9 месяцев': 'Опыт работы —23 года 9 месяцев', 'Опыт работы —2 года 4 месяца': 'Опыт работы —24 года 4 месяца', 'Опыт работы —8 лет 7 месяцев': 'Опыт работы —8 лет 7 месяцев', 'Опыт работы —6 лет 5 месяцев': 'Опыт работы —16 лет 5 месяцев', 'Опыт работы —10 лет 5 месяцев': 'Опыт работы —10 лет 5 месяцев', 'Опыт работы —11 лет 1 месяц': 'Опыт работы —11 лет 1 месяц', 'Опыт работы —18 лет': 'Опыт работы —18 лет', 'Опыт работы 4 года 11 месяцев': 'Опыт работы —4 года 10 месяцев', 'Опыт работы —12 лет 2 месяца': 'Опыт работы —12 лет 2 месяца', 'Опыт работы —33 года 11 месяцев': 'Опыт работы —33 года 11 месяцев', 'Опыт работы —30 лет 11 месяцев': 'Опыт работы —30 лет 11 месяцев', 'Опыт работы —2 года 7 месяцев': 'Опыт работы —23 года 7 месяцев', 'Опыт работы —3 года 7 месяцев': 'Опыт работы —23 года 7 месяцев', 'Опыт работы —7 лет 11 месяцев': 'Опыт работы —17 лет 11 месяцев', 'Опыт работы —14 лет 6 месяцев': 'Опыт работы —14 лет 6 месяцев', 'Опыт работы —10 лет 4 месяца': 'Опыт работы —10 лет 4 месяца', 'Опыт работы —14 лет 1 месяц': 'Опыт работы —14 лет 1 месяц', 'Опыт работы —23 года 8 месяцев': 'Опыт работы —23 года 8 месяцев', 'Опыт работы —14 лет 3 месяца': 'Опыт работы —14 лет 3 месяца', 'Опыт работы —2 года 3 месяца': 'Опыт работы —24 года 3 месяца', 'Опыт работы —13 лет 11 месяцев': 'Опыт работы —13 лет 11 месяцев', 'Опыт работы —5 лет': 'Опыт работы —15 лет', 'Опыт работы —4 года 4 месяца': 'Опыт работы —24 года 4 месяца', 'Опыт работы —6 лет 1 месяц': 'Опыт работы —16 лет 1 месяц', 'Опыт работы —10 лет 6 месяцев': 'Опыт работы —10 лет 6 месяцев', 'Опыт работы —13 лет 6 месяцев': 'Опыт работы —13 лет 6 месяцев', 'Опыт работы —13 лет 1 месяц': 'Опыт работы —13 лет 1 месяц', 'Опыт работы —11 месяцев': 'Опыт работы —11 месяцев', 'Опыт работы —27 лет 3 месяца': 'Опыт работы —27 лет 3 месяца', 'Опыт работы —7 лет 5 месяцев': 'Опыт работы —7 лет 5 месяцев', 'Опыт работы —16 лет 9 месяцев': 'Опыт работы —16 лет 9 месяцев', 'Опыт работы —1 год 8 месяцев': 'Опыт работы —31 год 8 месяцев', 'Опыт работы —9 лет 6 месяцев': 'Опыт работы —29 лет 6 месяцев', 'Опыт работы —2 года 6 месяцев': 'Опыт работы —24 года 6 месяцев', 'Опыт работы —1 год 7 месяцев': 'Опыт работы —1 год 7 месяцев', 'Опыт работы —15 лет 5 месяцев': 'Опыт работы —15 лет 5 месяцев', 'Опыт работы —34 года 6 месяцев': 'Опыт работы —34 года 6 месяцев', 'Опыт работы —8 лет 2 месяца': 'Опыт работы —28 лет 2 месяца', 'Опыт работы —4 года 6 месяцев': 'Опыт работы —34 года 6 месяцев', 'Опыт работы —20 лет 6 месяцев': 'Опыт работы —20 лет 6 месяцев', 'Опыт работы —19 лет 10 месяцев': 'Опыт работы —19 лет 10 месяцев', 'Опыт работы —16 лет 4 месяца': 'Опыт работы —16 лет 4 месяца', 'Опыт работы —24 года 5 месяцев': 'Опыт работы —24 года 5 месяцев', 'Опыт работы —18 лет 9 месяцев': 'Опыт работы —18 лет 9 месяцев', 'Опыт работы —15 лет 10 месяцев': 'Опыт работы —15 лет 10 месяцев', 'Опыт работы —4 года 10 месяцев': 'Опыт работы — 3 года 10 месяцев', 'Опыт работы —16 лет 6 месяцев': 'Опыт работы —16 лет 6 месяцев', 'Опыт работы —8 лет 11 месяцев': 'Опыт работы —28 лет 11 месяцев', 'Опыт работы —20 лет 10 месяцев': 'Опыт работы —20 лет 10 месяцев', 'Опыт работы —15 лет 8 месяцев': 'Опыт работы —15 лет 8 месяцев', 'Опыт работы —14 лет 2 месяца': 'Опыт работы —14 лет 2 месяца', 'Опыт работы —21 год 6 месяцев': 'Опыт работы —24 года 6 месяцев', 'Опыт работы —37 лет 2 месяца': 'Опыт работы —37 лет 2 месяца', 'Опыт работы —4 года 9 месяцев': 'Опыт работы —4 года 9 месяцев', 'Опыт работы —2 года': 'Опыт работы —23 года', 'Опыт работы —8 лет 10 месяцев': 'Опыт работы —8 лет 10 месяцев', 'Опыт работы —9 лет 7 месяцев': 'Опыт работы —9 лет 7 месяцев', 'Опыт работы —10 лет 11 месяцев': 'Опыт работы —10 лет 11 месяцев', 'Опыт работы —7 лет 10 месяцев': 'Опыт работы —17 лет 10 месяцев', 'Опыт работы —16 лет 1 месяц': 'Опыт работы —16 лет 1 месяц', 'Опыт работы —6 лет 8 месяцев': 'Опыт работы —6 лет 8 месяцев', 'Опыт работы —19 лет 2 месяца': 'Опыт работы —19 лет 2 месяца', 'Опыт работы —21 год 2 месяца': 'Опыт работы —22 года 2 месяца', 'Опыт работы —20 лет 8 месяцев': 'Опыт работы —20 лет 8 месяцев', 'Опыт работы —10 месяцев': 'Опыт работы —10 месяцев', 'Опыт работы —7 лет 2 месяца': 'Опыт работы —37 лет 2 месяца', 'Опыт работы —6 лет': 'Опыт работы —6 лет', 'Опыт работы —10 лет 10 месяцев': 'Опыт работы —10 лет 10 месяцев', 'Опыт работы —8 лет 1 месяц': 'Опыт работы —8 лет 1 месяц', 'Опыт работы —9 месяцев': 'Опыт работы —11 месяцев', 'Опыт работы —17 лет 9 месяцев': 'Опыт работы —17 лет 9 месяцев', 'Опыт работы —31 год 3 месяца': 'Опыт работы —23 года 3 месяца', 'Опыт работы —11 лет 9 месяцев': 'Опыт работы —11 лет 9 месяцев', 'Опыт работы —14 лет 4 месяца': 'Опыт работы —14 лет 4 месяца', 'Опыт работы —13 лет 3 месяца': 'Опыт работы —13 лет 3 месяца', 'Опыт работы —15 лет 4 месяца': 'Опыт работы —15 лет 4 месяца', 'Опыт работы —28 лет 2 месяца': 'Опыт работы —28 лет 2 месяца', 'Опыт работы —29 лет 6 месяцев': 'Опыт работы —29 лет 6 месяцев', 'Опыт работы —26 лет 2 месяца': 'Опыт работы —26 лет 2 месяца', 'Опыт работы —15 лет 3 месяца': 'Опыт работы —15 лет 3 месяца', 'Опыт работы —3 года 10 месяцев': 'Опыт работы — 3 года 10 месяцев', 'Опыт работы —13 лет 8 месяцев': 'Опыт работы —13 лет 8 месяцев', 'Опыт работы —25 лет 7 месяцев': 'Опыт работы —25 лет 7 месяцев', 'Опыт работы 8 лет 2 месяца': 'Опыт работы —28 лет 2 месяца', 'Опыт работы —17 лет': 'Опыт работы —17 лет', 'Опыт работы —3 года 8 месяцев': 'Опыт работы —23 года 8 месяцев', 'Опыт работы —14 лет 10 месяцев': 'Опыт работы —14 лет 10 месяцев', 'Опыт работы —6 лет 4 месяца': 'Опыт работы —16 лет 4 месяца', 'Опыт работы —5 лет 4 месяца': 'Опыт работы —35 лет 4 месяца', 'Опыт работы —2 года 5 месяцев': 'Опыт работы —24 года 5 месяцев', 'Опыт работы —7 лет': 'Опыт работы —17 лет', 'Опыт работы —8 лет 4 месяца': 'Опыт работы —8 лет 4 месяца', 'Опыт работы —1 год 4 месяца': 'Опыт работы —4 года 4 месяца', 'Опыт работы —1 год 10 месяцев': 'Опыт работы —4 года 10 месяцев', 'Опыт работы —10 лет 2 месяца': 'Опыт работы —10 лет 2 месяца', 'Опыт работы —7 лет 8 месяцев': 'Опыт работы —7 лет 8 месяцев', 'Опыт работы —2 года 9 месяцев': 'Опыт работы —23 года 9 месяцев', 'Опыт работы —29 лет 2 месяца': 'Опыт работы —29 лет 2 месяца', 'Опыт работы —21 год 1 месяц': 'Опыт работы —21 год 11 месяцев', 'Опыт работы —3 года 3 месяца': 'Опыт работы —23 года 3 месяца', 'Опыт работы —27 лет 7 месяцев': 'Опыт работы —27 лет 7 месяцев', 'Опыт работы —7 лет 4 месяца': 'Опыт работы —17 лет 4 месяца', 'Опыт работы —6 лет 3 месяца': 'Опыт работы —16 лет 3 месяца', 'Опыт работы —10 лет 1 месяц': 'Опыт работы —10 лет 1 месяц', 'Опыт работы —23 года 3 месяца': 'Опыт работы —23 года 3 месяца', 'Опыт работы 10 лет 2 месяца': 'Опыт работы —10 лет 2 месяца', 'Опыт работы —22 года': 'Опыт работы —22 года', 'Опыт работы —13 лет': 'Опыт работы —13 лет', 'Опыт работы —4 года 1 месяц': 'Опыт работы —24 года 1 месяц', 'Опыт работы —7 лет 1 месяц': 'Опыт работы —7 лет 1 месяц', 'Опыт работы —11 лет 4 месяца': 'Опыт работы —11 лет 4 месяца', 'Опыт работы —5 лет 3 месяца': 'Опыт работы —15 лет 3 месяца', 'Опыт работы —3 года 9 месяцев': 'Опыт работы —23 года 9 месяцев', 'Опыт работы —12 лет 9 месяцев': 'Опыт работы —12 лет 9 месяцев', 'Опыт работы —10 лет 3 месяца': 'Опыт работы —10 лет 3 месяца', 'Опыт работы —16 лет 7 месяцев': 'Опыт работы —16 лет 7 месяцев', 'Опыт работы —4 года 7 месяцев': 'Опыт работы —4 года 7 месяцев', 'Опыт работы —8 лет 8 месяцев': 'Опыт работы —8 лет 8 месяцев', 'Опыт работы —3 года 5 месяцев': 'Опыт работы —23 года 5 месяцев', 'Опыт работы —14 лет 9 месяцев': 'Опыт работы —14 лет 9 месяцев', 'Опыт работы —35 лет 4 месяца': 'Опыт работы —35 лет 4 месяца', 'Опыт работы —19 лет 4 месяца': 'Опыт работы —19 лет 4 месяца', 'Опыт работы —24 года 6 месяцев': 'Опыт работы —24 года 6 месяцев', 'Опыт работы —9 лет 8 месяцев': 'Опыт работы —9 лет 8 месяцев', 'Опыт работы —12 лет 3 месяца': 'Опыт работы —12 лет 3 месяца', 'Опыт работы —22 года 6 месяцев': 'Опыт работы —22 года 6 месяцев', 'Опыт работы —14 лет 7 месяцев': 'Опыт работы —14 лет 7 месяцев', 'Опыт работы —4 года 2 месяца': 'Опыт работы —4 года 2 месяца', 'Опыт работы —24 года 3 месяца': 'Опыт работы —24 года 3 месяца', 'Опыт работы —6 лет 11 месяцев': 'Опыт работы —26 лет 11 месяцев', 'Опыт работы —7 месяцев': 'Опыт работы —11 месяцев', 'Опыт работы —28 лет 11 месяцев': 'Опыт работы —28 лет 11 месяцев', 'Опыт работы —11 лет 2 месяца': 'Опыт работы —11 лет 2 месяца', 'Опыт работы —18 лет 3 месяца': 'Опыт работы —18 лет 3 месяца', 'Опыт работы —26 лет 11 месяцев': 'Опыт работы —26 лет 11 месяцев', 'Опыт работы —24 года 1 месяц': 'Опыт работы —24 года 4 месяца', 'Опыт работы 9 лет 6 месяцев': 'Опыт работы —29 лет 6 месяцев', 'Опыт работы 6 лет 3 месяца': 'Опыт работы —16 лет 3 месяца', 'Опыт работы —13 лет 5 месяцев': 'Опыт работы —13 лет 5 месяцев', 'Опыт работы —25 лет 8 месяцев': 'Опыт работы —25 лет 8 месяцев', 'Опыт работы —17 лет 4 месяца': 'Опыт работы —17 лет 4 месяца', 'Опыт работы —13 лет 2 месяца': 'Опыт работы —13 лет 2 месяца', 'Опыт работы —3 года 1 месяц': 'Опыт работы —3 года 11 месяцев', 'Опыт работы —30 лет 2 месяца': 'Опыт работы —30 лет 2 месяца', 'Опыт работы —2 месяца': 'Опыт работы —9 месяцев', 'Опыт работы —8 лет': 'Опыт работы —18 лет', 'Опыт работы —11 лет 10 месяцев': 'Опыт работы —11 лет 10 месяцев', 'Опыт работы —2 года 10 месяцев': 'Опыт работы —2 года 10 месяцев', 'Опыт работы —16 лет 3 месяца': 'Опыт работы —16 лет 3 месяца', 'Опыт работы —21 год 11 месяцев': 'Опыт работы —21 год 11 месяцев', 'Опыт работы —15 лет 7 месяцев': 'Опыт работы —15 лет 7 месяцев', 'Опыт работы —11 лет 3 месяца': 'Опыт работы —11 лет 3 месяца', 'Опыт работы — 19 лет 8 месяца': 'Опыт работы — 19 лет 8 месяца', 'Опыт работы —12 лет 8 месяцев': 'Опыт работы —12 лет 8 месяцев', 'Опыт работы — 3 года 10 месяцев': 'Опыт работы — 3 года 10 месяцев', 'Опыт работы —25 лет 10 месяцев': 'Опыт работы —25 лет 10 месяцев', 'Опыт работы —2 года 8 месяцев': 'Опыт работы —23 года 8 месяцев', 'Опыт работы —18 лет 5 месяцев': 'Опыт работы —18 лет 5 месяцев', 'Опыт работы —9 лет 10 месяцев': 'Опыт работы —19 лет 10 месяцев', 'Опыт работы —13 лет 9 месяцев': 'Опыт работы —13 лет 9 месяцев', 'Опыт работы —17 лет 10 месяцев': 'Опыт работы —17 лет 10 месяцев', 'Опыт работы —15 лет 1 месяц': 'Опыт работы —15 лет 1 месяц', 'Опыт работы —5 лет 9 месяцев': 'Опыт работы —25 лет 9 месяцев', 'Опыт работы —10 лет 7 месяцев': 'Опыт работы —10 лет 7 месяцев', 'Опыт работы —5 лет 5 месяцев': 'Опыт работы —15 лет 5 месяцев', 'Опыт работы —11 лет 6 месяцев': 'Опыт работы —11 лет 6 месяцев', 'Опыт работы —15 лет 11 месяцев': 'Опыт работы —15 лет 11 месяцев', 'Опыт работы —31 год 8 месяцев': 'Опыт работы —23 года 8 месяцев', 'нет': 'нет', 'Опыт работы —8 лет 9 месяцев': 'Опыт работы —18 лет 9 месяцев', 'Опыт работы —15 лет 6 месяцев': 'Опыт работы —15 лет 6 месяцев', 'Опыт работы —23 года 7 месяцев': 'Опыт работы —23 года 7 месяцев', 'Опыт работы —7 лет 9 месяцев': 'Опыт работы —17 лет 9 месяцев', 'Опыт работы —3 года': 'Опыт работы —23 года', 'Опыт работы —12 лет 4 месяца': 'Опыт работы —12 лет 4 месяца', 'Опыт работы —16 лет 5 месяцев': 'Опыт работы —16 лет 5 месяцев', 'Опыт работы —20 лет 3 месяца': 'Опыт работы —20 лет 3 месяца', 'Опыт работы —26 лет 6 месяцев': 'Опыт работы —26 лет 6 месяцев', 'Опыт работы —24 года 4 месяца': 'Опыт работы —24 года 4 месяца', 'Опыт работы —1 год 1 месяц': 'Опыт работы —1 год 11 месяцев', 'Опыт работы —12 лет 6 месяцев': 'Опыт работы —12 лет 6 месяцев', 'Опыт работы —8 лет 5 месяцев': 'Опыт работы —18 лет 5 месяцев', 'Опыт работы —7 лет 7 месяцев': 'Опыт работы —27 лет 7 месяцев', 'Опыт работы —12 лет 5 месяцев': 'Опыт работы —12 лет 5 месяцев', 'Опыт работы —9 лет 4 месяца': 'Опыт работы —19 лет 4 месяца', 'Опыт работы —11 лет 7 месяцев': 'Опыт работы —11 лет 7 месяцев', 'Опыт работы —5 лет 6 месяцев': 'Опыт работы —15 лет 6 месяцев', 'Опыт работы —17 лет 11 месяцев': 'Опыт работы —17 лет 11 месяцев', 'Опыт работы —17 лет 6 месяцев': 'Опыт работы —17 лет 6 месяцев', 'Опыт работы —7 лет 6 месяцев': 'Опыт работы —17 лет 6 месяцев', 'Опыт работы —9 лет 2 месяца': 'Опыт работы —29 лет 2 месяца', 'Опыт работы —2 года 2 месяца': 'Опыт работы —22 года 2 месяца', 'Опыт работы —3 года 2 месяца': 'Опыт работы —3 года 2 месяца', 'Опыт работы —4 месяца': 'Опыт работы —9 месяцев', 'Опыт работы —2 года 11 месяцев': 'Опыт работы —2 года 11 месяцев', 'Опыт работы —1 год 11 месяцев': 'Опыт работы —21 год 11 месяцев', 'Опыт работы —6 лет 6 месяцев': 'Опыт работы —26 лет 6 месяцев', 'Опыт работы —9 лет 11 месяцев': 'Опыт работы —9 лет 11 месяцев', 'Опыт работы —9 лет 3 месяца': 'Опыт работы —19 лет 3 месяца', 'Опыт работы —3 года 4 месяца': 'Опыт работы —3 года 4 месяца', 'Опыт работы —2 года 1 месяц': 'Опыт работы —24 года 1 месяц', 'Опыт работы —8 месяцев': 'Опыт работы —11 месяцев', 'Опыт работы —17 лет 3 месяца': 'Опыт работы —17 лет 3 месяца', 'Опыт работы —15 лет 9 месяцев': 'Опыт работы —15 лет 9 месяцев', 'Опыт работы —12 лет 10 месяцев': 'Опыт работы —12 лет 10 месяцев', 'Опыт работы —22 года 3 месяца': 'Опыт работы —22 года 3 месяца', 'Опыт работы —5 лет 11 месяцев': 'Опыт работы —15 лет 11 месяцев', 'Опыт работы —7 лет 3 месяца': 'Опыт работы —27 лет 3 месяца', 'Опыт работы —18 лет 2 месяца': 'Опыт работы —18 лет 2 месяца', 'Опыт работы —17 лет 2 месяца': 'Опыт работы —17 лет 2 месяца', 'Опыт работы —23 года': 'Опыт работы —23 года', 'Опыт работы —19 лет 6 месяцев': 'Опыт работы —19 лет 6 месяцев', 'Опыт работы —1 год 9 месяцев': 'Опыт работы —1 год 9 месяцев'}\n"
          ]
        }
      ]
    },
    {
      "cell_type": "code",
      "source": [
        "def create_age_vec(age):\n",
        "  outClass = 0\n",
        "  if age > 0:\n",
        "    outClass = int((age-13)/5)\n",
        "    outClass = max(0, min(10,outClass))\n",
        "  # На выходе получаем вектор с нужной категорией возраста\n",
        "  return list(utils.to_categorical(outClass, 11).astype('int'))\n",
        "\n",
        "def create_gender_vec(gender):\n",
        "  out = [0]\n",
        "  #Если Мужчина, то 1. По умолчанию 0 - Женщина\n",
        "  if \"M\" in gender:\n",
        "    out[0] = 1\n",
        "  return out\n",
        "\n",
        "def create_salary_vec(salary):\n",
        "  min_value = 40000\n",
        "  outClass = 0\n",
        "  if salary >= min_value:\n",
        "    outClass = int(salary/min_value)\n",
        "    outClass = max(0, min(10,outClass))\n",
        "  return list(utils.to_categorical(outClass, 11).astype('int'))\n",
        "\n",
        "\n",
        "schedules = {'полный рабочий день': 'полный рабочий день', \n",
        "             'удаленная': 'удаленная работа', \n",
        "             'гибкий график': 'гибкий график', \n",
        "             'сменный графи': 'сменный график', \n",
        "             'сменный график': 'сменный график', \n",
        "             'вахтовый метод': 'вахтовый метод', \n",
        "             'удаленная работа': 'удаленная работа', \n",
        "             'полный день': 'полный рабочий день'}\n",
        "fixed_schedules = {v:k for k, v in enumerate(set(schedules.values()))}\n",
        "def create_schedule_vec(schedule):\n",
        "  out = [0]*len(fixed_schedules)\n",
        "  for item in schedule.split(\",\"):\n",
        "    idx = fixed_schedules[schedules[item.strip()]]\n",
        "    out[idx] = 1\n",
        "  return out\n",
        "\n",
        "educations = {'Высшее': 'Высшее', \n",
        "             'Среднее специальное': 'Среднее специальное', \n",
        "             'Неоконченное высшее': 'Незаконченное высшее', \n",
        "             'Кандидат наук': 'Кандидат наук', \n",
        "             'Бакалавр': 'Бакалавр', \n",
        "             'Незаконченное высшее образование': 'Незаконченное высшее', \n",
        "             'Среднее образование': 'Среднее', \n",
        "             'Среднее специальное образование': 'Среднее специальное', \n",
        "             'Высшее образование': 'Высшее', \n",
        "             'Магистр': 'Магистр', \n",
        "             'Доктор наук': 'Доктор наук', \n",
        "             'Среднее': 'Среднее'}\n",
        "fixed_educations = {v:k for k, v in enumerate(set(educations.values()))}\n",
        "def create_education_vec(education):\n",
        "  out = [0]*len(fixed_educations)\n",
        "  for item in education.split(\",\"):\n",
        "    idx = fixed_educations[educations[item.strip()]]\n",
        "    out[idx] = 1\n",
        "  return out \n",
        "\n",
        "\n",
        "job_position_searchs =['Product Marketing Manager в Growth Hacking команду', 'Product manager в Growth Hacking команду', 'Директор медицинской клиники', 'Product Manager в команду Финансового департамента', 'Project manager', 'Product Manager в команду HR', 'Growth Product Manager', 'HR-специалист']\n",
        "fixed_job_position_searchs = {v:k for k, v in enumerate(set(job_position_searchs))}\n",
        "def create_job_position_search_vec(job_position_search):\n",
        "  out = [0]*len(fixed_job_position_searchs)\n",
        "  idx = fixed_job_position_searchs[job_position_search.strip()]\n",
        "  out[idx] = 1\n",
        "  return out \n",
        "\n",
        "employments = {'частичная занятость': 'частичная занятость', \n",
        "               'полная занятость': 'полная занятость', \n",
        "               'стажировка': 'стажировка', \n",
        "               'неполный рабочий день': 'неполный рабочий день', \n",
        "               'волонтерство': 'волонтерство', \n",
        "               'проектная работа': 'проектная работа', \n",
        "               'полный рабочий день': 'полная занятость'}\n",
        "fixed_employments = {v:k for k, v in enumerate(set(employments.values()))}\n",
        "def create_employment_vec(employment):\n",
        "  out = [0]*len(fixed_employments)\n",
        "  for item in employment.split(\",\"):\n",
        "    idx = fixed_employments[employments[item.strip()]]\n",
        "    out[idx] = 1\n",
        "  return out \n",
        "\n",
        "million_cities = {\"Новосибирск\", \"Екатеринбург\", \"Нижний Новгород\", \"Казань\", \"Челябинск\", \"Омск\", \"Самара\", \"Ростов-на-Дону\", \"Уфа\", \"Красноярск\", \"Пермь\", \"Воронеж\", \"Волгоград\"}\n",
        "foreign_cities = {'Караганда', 'Тбилиси', 'Индонезия', 'ОАЭ', 'Алматы', 'Астана', 'Бишкек', 'Ташкент', 'Батуми', 'Индия', 'Сербия', 'Армения', 'Кумертау', 'Стерлитамак', 'Кишинёв', 'Израиль', 'Актау', 'Турция', 'Таиланд', 'Германия'}\n",
        "def create_city_vec(city):\n",
        "  city = city.strip()\n",
        "  if city == \"Москва\":          return [1, 0, 0, 0, 0]\n",
        "  if city == \"Санкт-Петербург\": return [0, 1, 0, 0, 0]\n",
        "  if city in million_cities:     return [0, 0, 1, 0, 0]\n",
        "  if city in foreign_cities:     return [0, 0, 0, 1, 0]\n",
        "  return [0, 0, 0, 0, 1]\n",
        "\n",
        "max_diploms = len(df.univercity_diplom.unique())\n",
        "def create_univercity_diplom_vec(univercity_diplom):\n",
        "  return list(utils.to_categorical(univercity_diplom, max_diploms).astype('int'))\n",
        "\n",
        "def create_employment_vec(employment):\n",
        "  out = [0]*len(fixed_employments)\n",
        "  for item in employment.split(\",\"):\n",
        "    idx = fixed_employments[employments[item.strip()]]\n",
        "    out[idx] = 1\n",
        "  return out \n",
        "\n",
        "limits = [6, 12, 24, 36, 60, 96, 120, 180, 240]\n",
        "def create_experience_month_vec(experience):\n",
        "  out = [0]*len(limits)\n",
        "  data = [limit for limit in limits if limit < experience]\n",
        "  out[len(data)-1] = 1\n",
        "  return out \n",
        "\n",
        "def create_suitable_vec(suitable):\n",
        "  out = [0]\n",
        "  if suitable == 'да':\n",
        "    out = [1]\n",
        "  return out \n"
      ],
      "metadata": {
        "id": "a9kLZptJlS8R"
      },
      "execution_count": null,
      "outputs": []
    },
    {
      "cell_type": "markdown",
      "source": [
        "Вывести вектора\n"
      ],
      "metadata": {
        "id": "Ex1PcQYbCs0n"
      }
    },
    {
      "cell_type": "code",
      "source": [
        "# Собираем воедино все ветора\n",
        "# Создаем dict с маппингом значения фичи и функции получения вектора \n",
        "# Формируем итоговый вектор\n",
        "def get_all_vec():\n",
        "  mapper_func = {\n",
        "    'age': create_age_vec,\n",
        "    'gender': create_gender_vec,\n",
        "    'salary_rub': create_salary_vec,\n",
        "    'schedule': create_schedule_vec,\n",
        "    'education': create_education_vec,\n",
        "    'job_position_search': create_job_position_search_vec,\n",
        "    'employments': create_employment_vec,\n",
        "    'city': create_city_vec,\n",
        "    'univercity_diplom': create_univercity_diplom_vec,\n",
        "    'experience_month': create_experience_month_vec,\n",
        "  }\n",
        "  out = []\n",
        "  for i in range(df.shape[0]):\n",
        "    items = []\n",
        "    for j in range(len(df.columns)):\n",
        "      col_name = df.columns[j]\n",
        "      if not mapper_func.get(col_name):\n",
        "        continue\n",
        "      # print(col_name)\n",
        "      val = df.values[i][j]\n",
        "      res = mapper_func.get(df.columns[j])(val)\n",
        "      items += res\n",
        "    out.append(items)\n",
        "  return out"
      ],
      "metadata": {
        "id": "trMH4QWZk1b0"
      },
      "execution_count": null,
      "outputs": []
    },
    {
      "cell_type": "code",
      "source": [
        "# Создаем тренировочную выборку\n",
        "def get01Data():\n",
        "  xTrain = []\n",
        "  yTrain = []\n",
        "  \n",
        "  # Предсказывает подходимость кандидата\n",
        "  x = get_all_vec()\n",
        "  xTrain.append(x)\n",
        "  y = df.suitable.values\n",
        "  yTrain.append(y)\n",
        "  \n",
        "  xTrain = np.array(xTrain)\n",
        "  yTrain = np.array(yTrain)\n",
        "\n",
        "  \n",
        "  return (xTrain, yTrain)"
      ],
      "metadata": {
        "id": "NmJpAHztPWY2"
      },
      "execution_count": null,
      "outputs": []
    },
    {
      "cell_type": "code",
      "source": [
        "(xTrain01, yTrain) = get01Data()"
      ],
      "metadata": {
        "id": "BtRc-b9t_W2l"
      },
      "execution_count": null,
      "outputs": []
    },
    {
      "cell_type": "code",
      "source": [
        "# Размер векторов\n",
        "print(xTrain01.shape) \n",
        "print(yTrain.shape)\n",
        "# Вывод обработанных данных\n",
        "n = 0 \n",
        "display(xTrain01[n])\n",
        "display(yTrain[n])"
      ],
      "metadata": {
        "colab": {
          "base_uri": "https://localhost:8080/",
          "height": 657
        },
        "id": "jhOjHjUtNBmW",
        "outputId": "c11f6c0e-0d0c-4fe7-c074-e26ca796dbc9"
      },
      "execution_count": null,
      "outputs": [
        {
          "output_type": "stream",
          "name": "stdout",
          "text": [
            "(1, 579, 64)\n",
            "(1, 579)\n"
          ]
        },
        {
          "output_type": "display_data",
          "data": {
            "text/plain": [
              "array([[0, 0, 0, ..., 0, 0, 0],\n",
              "       [0, 0, 0, ..., 1, 0, 0],\n",
              "       [0, 0, 0, ..., 0, 0, 0],\n",
              "       ...,\n",
              "       [0, 0, 0, ..., 0, 1, 0],\n",
              "       [0, 0, 0, ..., 0, 1, 0],\n",
              "       [0, 0, 0, ..., 0, 0, 0]])"
            ]
          },
          "metadata": {}
        },
        {
          "output_type": "display_data",
          "data": {
            "text/plain": [
              "array([1, 1, 1, 1, 1, 1, 1, 1, 1, 1, 0, 0, 0, 0, 0, 0, 0, 0, 0, 0, 0, 0,\n",
              "       0, 0, 0, 0, 0, 0, 0, 0, 0, 0, 0, 0, 0, 0, 0, 0, 0, 0, 0, 0, 0, 0,\n",
              "       0, 0, 0, 0, 0, 0, 0, 0, 0, 0, 0, 0, 0, 0, 0, 0, 0, 0, 0, 0, 0, 0,\n",
              "       0, 0, 0, 0, 0, 0, 0, 0, 0, 0, 0, 0, 0, 0, 0, 0, 0, 0, 0, 0, 0, 0,\n",
              "       0, 0, 0, 0, 0, 0, 0, 0, 0, 0, 0, 0, 0, 0, 0, 0, 0, 0, 0, 0, 0, 0,\n",
              "       0, 0, 0, 0, 0, 0, 0, 0, 0, 0, 0, 0, 0, 0, 0, 0, 0, 0, 0, 0, 0, 0,\n",
              "       0, 0, 0, 0, 0, 0, 0, 0, 0, 0, 0, 0, 0, 0, 0, 0, 0, 0, 0, 0, 0, 0,\n",
              "       0, 0, 0, 0, 0, 0, 0, 0, 0, 0, 0, 0, 0, 0, 0, 0, 0, 0, 0, 0, 0, 0,\n",
              "       0, 0, 0, 0, 0, 0, 0, 0, 0, 0, 0, 0, 0, 0, 0, 0, 0, 0, 0, 0, 0, 0,\n",
              "       0, 0, 0, 0, 0, 0, 0, 0, 0, 0, 0, 0, 0, 0, 0, 0, 0, 0, 0, 0, 0, 0,\n",
              "       0, 0, 0, 0, 0, 0, 0, 0, 0, 0, 0, 0, 0, 0, 0, 0, 0, 0, 0, 0, 0, 0,\n",
              "       0, 0, 0, 0, 0, 0, 0, 0, 0, 0, 0, 0, 0, 0, 0, 0, 0, 0, 0, 0, 0, 0,\n",
              "       0, 0, 0, 0, 0, 0, 0, 0, 0, 0, 0, 0, 0, 0, 0, 0, 0, 0, 0, 0, 0, 0,\n",
              "       0, 0, 0, 0, 0, 0, 0, 0, 0, 0, 0, 0, 0, 0, 0, 0, 0, 0, 0, 0, 0, 0,\n",
              "       0, 0, 0, 0, 0, 0, 0, 0, 0, 0, 0, 0, 0, 0, 0, 0, 0, 0, 0, 0, 0, 0,\n",
              "       0, 0, 0, 0, 0, 0, 0, 0, 0, 0, 0, 0, 0, 0, 0, 0, 0, 0, 0, 0, 0, 0,\n",
              "       0, 0, 0, 0, 0, 0, 0, 0, 0, 0, 0, 0, 0, 0, 0, 0, 0, 0, 0, 0, 0, 0,\n",
              "       0, 0, 0, 0, 0, 0, 0, 0, 0, 0, 0, 0, 0, 0, 0, 0, 0, 0, 0, 0, 0, 0,\n",
              "       0, 0, 0, 0, 0, 0, 0, 0, 0, 0, 0, 0, 0, 0, 0, 0, 0, 0, 0, 0, 0, 0,\n",
              "       0, 0, 0, 0, 0, 0, 0, 0, 0, 0, 0, 0, 0, 0, 0, 0, 0, 0, 0, 0, 0, 0,\n",
              "       0, 0, 0, 0, 0, 0, 0, 0, 0, 0, 0, 0, 0, 0, 0, 0, 0, 0, 0, 0, 0, 1,\n",
              "       0, 0, 0, 0, 0, 0, 0, 0, 0, 0, 0, 0, 0, 0, 0, 0, 0, 0, 0, 0, 0, 0,\n",
              "       0, 0, 0, 0, 0, 0, 0, 0, 0, 0, 0, 0, 0, 0, 0, 0, 0, 0, 0, 0, 0, 0,\n",
              "       0, 0, 0, 0, 0, 0, 0, 0, 0, 0, 0, 0, 0, 0, 0, 0, 0, 0, 0, 0, 0, 0,\n",
              "       0, 0, 0, 0, 0, 0, 0, 0, 0, 0, 0, 0, 0, 0, 0, 0, 0, 0, 0, 0, 0, 0,\n",
              "       0, 0, 0, 0, 0, 0, 0, 0, 0, 0, 0, 0, 0, 0, 0, 0, 0, 0, 0, 0, 0, 0,\n",
              "       0, 0, 0, 0, 0, 0, 0])"
            ]
          },
          "metadata": {}
        }
      ]
    },
    {
      "cell_type": "code",
      "execution_count": null,
      "metadata": {
        "colab": {
          "base_uri": "https://localhost:8080/",
          "height": 1000
        },
        "id": "1X2vk7dEGHSu",
        "outputId": "2334eb42-7774-46ae-c943-90b409f6da1c"
      },
      "outputs": [
        {
          "output_type": "stream",
          "name": "stdout",
          "text": [
            "Epoch 1/20\n",
            "1/1 [==============================] - 1s 935ms/step - loss: 0.7008 - accuracy: 0.5130\n",
            "Epoch 2/20\n",
            "1/1 [==============================] - 0s 11ms/step - loss: 0.6657 - accuracy: 0.7168\n",
            "Epoch 3/20\n",
            "1/1 [==============================] - 0s 11ms/step - loss: 0.6322 - accuracy: 0.8705\n",
            "Epoch 4/20\n",
            "1/1 [==============================] - 0s 11ms/step - loss: 0.6002 - accuracy: 0.9534\n",
            "Epoch 5/20\n",
            "1/1 [==============================] - 0s 10ms/step - loss: 0.5696 - accuracy: 0.9758\n",
            "Epoch 6/20\n",
            "1/1 [==============================] - 0s 11ms/step - loss: 0.5402 - accuracy: 0.9810\n",
            "Epoch 7/20\n",
            "1/1 [==============================] - 0s 10ms/step - loss: 0.5120 - accuracy: 0.9810\n",
            "Epoch 8/20\n",
            "1/1 [==============================] - 0s 11ms/step - loss: 0.4847 - accuracy: 0.9810\n",
            "Epoch 9/20\n",
            "1/1 [==============================] - 0s 10ms/step - loss: 0.4584 - accuracy: 0.9810\n",
            "Epoch 10/20\n",
            "1/1 [==============================] - 0s 10ms/step - loss: 0.4328 - accuracy: 0.9810\n",
            "Epoch 11/20\n",
            "1/1 [==============================] - 0s 16ms/step - loss: 0.4080 - accuracy: 0.9810\n",
            "Epoch 12/20\n",
            "1/1 [==============================] - 0s 13ms/step - loss: 0.3839 - accuracy: 0.9810\n",
            "Epoch 13/20\n",
            "1/1 [==============================] - 0s 12ms/step - loss: 0.3606 - accuracy: 0.9810\n",
            "Epoch 14/20\n",
            "1/1 [==============================] - 0s 15ms/step - loss: 0.3381 - accuracy: 0.9810\n",
            "Epoch 15/20\n",
            "1/1 [==============================] - 0s 10ms/step - loss: 0.3164 - accuracy: 0.9810\n",
            "Epoch 16/20\n",
            "1/1 [==============================] - 0s 15ms/step - loss: 0.2956 - accuracy: 0.9810\n",
            "Epoch 17/20\n",
            "1/1 [==============================] - 0s 9ms/step - loss: 0.2757 - accuracy: 0.9810\n",
            "Epoch 18/20\n",
            "1/1 [==============================] - 0s 10ms/step - loss: 0.2568 - accuracy: 0.9810\n",
            "Epoch 19/20\n",
            "1/1 [==============================] - 0s 10ms/step - loss: 0.2390 - accuracy: 0.9810\n",
            "Epoch 20/20\n",
            "1/1 [==============================] - 0s 9ms/step - loss: 0.2222 - accuracy: 0.9810\n"
          ]
        },
        {
          "output_type": "display_data",
          "data": {
            "text/plain": [
              "<Figure size 640x480 with 1 Axes>"
            ],
            "image/png": "[encoded data removed]"
          },
          "metadata": {}
        }
      ],
      "source": [
        "# Построение предварительной модели\n",
        "model = Sequential()\n",
        "model.add(Dense(64, activation='relu'))\n",
        "model.add(Dense(64, activation='relu'))\n",
        "model.add(Dense(1, activation='sigmoid'))\n",
        "\n",
        "model.compile(optimizer = 'adam',\n",
        "              loss = 'binary_crossentropy',\n",
        "              metrics = ['accuracy'])\n",
        "\n",
        "history = model.fit(xTrain01, \n",
        "                    yTrain, \n",
        "                    epochs=20, \n",
        "                    batch_size=10,\n",
        "                    # validation_split=0.01,\n",
        "                    verbose=1)\n",
        "\n",
        "plt.plot(history.history['accuracy'], \n",
        "         label='Средняя абсолютная ошибка на обучающем наборе')\n",
        "# plt.plot(history.history['val_accuracy'], \n",
        "#          label='Средняя абсолютная ошибка на проверочном наборе')\n",
        "plt.xlabel('Эпоха обучения')\n",
        "plt.ylabel('Средняя абсолютная ошибка')\n",
        "plt.legend()\n",
        "plt.show()"
      ]
    },
    {
      "cell_type": "markdown",
      "source": [
        "# Итоги:\n",
        "\n",
        "1. Предварительно проанализировал данные\n",
        "\n",
        "2. Разделил некоторые фичи и выделил их в отдельные колонки\n",
        "\n",
        "3. Создал функции для формирования векторов\n",
        "\n",
        "4. Создал итоговый вектор под обучение\n",
        "\n",
        "5. Построил рабочую модель\n"
      ],
      "metadata": {
        "id": "vRZtQ2IVa99c"
      }
    },
    {
      "cell_type": "code",
      "source": [],
      "metadata": {
        "id": "27SwCiiF0RQV"
      },
      "execution_count": null,
      "outputs": []
    }
  ],
  "metadata": {
    "colab": {
      "provenance": [],
      "mount_file_id": "1qu1PtASmQ5qYCzbyoJ4q887L5eiWXSVM",
      "authorship_tag": "ABX9TyPcAemM7vUC3K9M6nezcJet",
      "include_colab_link": true
    },
    "kernelspec": {
      "display_name": "Python 3",
      "name": "python3"
    },
    "language_info": {
      "name": "python"
    }
  },
  "nbformat": 4,
  "nbformat_minor": 0
}